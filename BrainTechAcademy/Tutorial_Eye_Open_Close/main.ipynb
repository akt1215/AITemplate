{
 "cells": [
  {
   "cell_type": "code",
   "execution_count": 121,
   "metadata": {},
   "outputs": [],
   "source": [
    "import tensorflow as tf\n",
    "import numpy as np\n",
    "import matplotlib.pyplot as plt\n",
    "import pandas as pd\n",
    "from keras.layers import Dense\n",
    "from keras.models import Sequential\n",
    "from sklearn.utils import shuffle"
   ]
  },
  {
   "cell_type": "code",
   "execution_count": 2,
   "metadata": {},
   "outputs": [],
   "source": [
    "train_data_info = pd.read_csv('/workspaces/AITemplate/BrainTechAcademy/Tutorial_Eye_Open_Close/data_train/data_train_tutorial_eye_open_closed.csv')\n",
    "test_data_info = pd.read_csv('/workspaces/AITemplate/BrainTechAcademy/Tutorial_Eye_Open_Close/data_test/data_test_tutorial_eye_open_closed.csv')"
   ]
  },
  {
   "cell_type": "code",
   "execution_count": 3,
   "metadata": {},
   "outputs": [
    {
     "data": {
      "text/html": [
       "<div>\n",
       "<style scoped>\n",
       "    .dataframe tbody tr th:only-of-type {\n",
       "        vertical-align: middle;\n",
       "    }\n",
       "\n",
       "    .dataframe tbody tr th {\n",
       "        vertical-align: top;\n",
       "    }\n",
       "\n",
       "    .dataframe thead th {\n",
       "        text-align: right;\n",
       "    }\n",
       "</style>\n",
       "<table border=\"1\" class=\"dataframe\">\n",
       "  <thead>\n",
       "    <tr style=\"text-align: right;\">\n",
       "      <th></th>\n",
       "      <th>x</th>\n",
       "      <th>y</th>\n",
       "    </tr>\n",
       "  </thead>\n",
       "  <tbody>\n",
       "    <tr>\n",
       "      <th>0</th>\n",
       "      <td>test_plug_data_segmentation_151.csv</td>\n",
       "      <td>0</td>\n",
       "    </tr>\n",
       "    <tr>\n",
       "      <th>1</th>\n",
       "      <td>test_plug_data_segmentation_152.csv</td>\n",
       "      <td>0</td>\n",
       "    </tr>\n",
       "    <tr>\n",
       "      <th>2</th>\n",
       "      <td>test_plug_data_segmentation_153.csv</td>\n",
       "      <td>0</td>\n",
       "    </tr>\n",
       "    <tr>\n",
       "      <th>3</th>\n",
       "      <td>test_plug_data_segmentation_154.csv</td>\n",
       "      <td>0</td>\n",
       "    </tr>\n",
       "    <tr>\n",
       "      <th>4</th>\n",
       "      <td>test_plug_data_segmentation_155.csv</td>\n",
       "      <td>0</td>\n",
       "    </tr>\n",
       "  </tbody>\n",
       "</table>\n",
       "</div>"
      ],
      "text/plain": [
       "                                     x  y\n",
       "0  test_plug_data_segmentation_151.csv  0\n",
       "1  test_plug_data_segmentation_152.csv  0\n",
       "2  test_plug_data_segmentation_153.csv  0\n",
       "3  test_plug_data_segmentation_154.csv  0\n",
       "4  test_plug_data_segmentation_155.csv  0"
      ]
     },
     "execution_count": 3,
     "metadata": {},
     "output_type": "execute_result"
    }
   ],
   "source": [
    "train_data_info.head()"
   ]
  },
  {
   "cell_type": "code",
   "execution_count": 5,
   "metadata": {},
   "outputs": [
    {
     "data": {
      "text/html": [
       "<div>\n",
       "<style scoped>\n",
       "    .dataframe tbody tr th:only-of-type {\n",
       "        vertical-align: middle;\n",
       "    }\n",
       "\n",
       "    .dataframe tbody tr th {\n",
       "        vertical-align: top;\n",
       "    }\n",
       "\n",
       "    .dataframe thead th {\n",
       "        text-align: right;\n",
       "    }\n",
       "</style>\n",
       "<table border=\"1\" class=\"dataframe\">\n",
       "  <thead>\n",
       "    <tr style=\"text-align: right;\">\n",
       "      <th></th>\n",
       "      <th>x</th>\n",
       "      <th>y</th>\n",
       "    </tr>\n",
       "  </thead>\n",
       "  <tbody>\n",
       "    <tr>\n",
       "      <th>0</th>\n",
       "      <td>test_plug_data_segmentation_169.csv</td>\n",
       "      <td>0</td>\n",
       "    </tr>\n",
       "    <tr>\n",
       "      <th>1</th>\n",
       "      <td>test_plug_data_segmentation_170.csv</td>\n",
       "      <td>0</td>\n",
       "    </tr>\n",
       "    <tr>\n",
       "      <th>2</th>\n",
       "      <td>test_plug_data_segmentation_171.csv</td>\n",
       "      <td>0</td>\n",
       "    </tr>\n",
       "    <tr>\n",
       "      <th>3</th>\n",
       "      <td>test_plug_data_segmentation_172.csv</td>\n",
       "      <td>0</td>\n",
       "    </tr>\n",
       "    <tr>\n",
       "      <th>4</th>\n",
       "      <td>test_plug_data_segmentation_173.csv</td>\n",
       "      <td>0</td>\n",
       "    </tr>\n",
       "  </tbody>\n",
       "</table>\n",
       "</div>"
      ],
      "text/plain": [
       "                                     x  y\n",
       "0  test_plug_data_segmentation_169.csv  0\n",
       "1  test_plug_data_segmentation_170.csv  0\n",
       "2  test_plug_data_segmentation_171.csv  0\n",
       "3  test_plug_data_segmentation_172.csv  0\n",
       "4  test_plug_data_segmentation_173.csv  0"
      ]
     },
     "execution_count": 5,
     "metadata": {},
     "output_type": "execute_result"
    }
   ],
   "source": [
    "test_data_info.head()"
   ]
  },
  {
   "cell_type": "code",
   "execution_count": 10,
   "metadata": {},
   "outputs": [],
   "source": [
    "# Drop the data in test_data_info from train_data_info\n",
    "for i in (test_data_info['x']):\n",
    "    train_data_info = train_data_info[train_data_info['x'] != i]\n",
    "\n",
    "train_data_info.reset_index(drop=True, inplace=True)"
   ]
  },
  {
   "cell_type": "code",
   "execution_count": 16,
   "metadata": {},
   "outputs": [
    {
     "data": {
      "text/plain": [
       "(36, 2)"
      ]
     },
     "execution_count": 16,
     "metadata": {},
     "output_type": "execute_result"
    }
   ],
   "source": [
    "train_data_info.shape"
   ]
  },
  {
   "cell_type": "code",
   "execution_count": 17,
   "metadata": {},
   "outputs": [
    {
     "data": {
      "text/plain": [
       "(12, 2)"
      ]
     },
     "execution_count": 17,
     "metadata": {},
     "output_type": "execute_result"
    }
   ],
   "source": [
    "test_data_info.shape"
   ]
  },
  {
   "cell_type": "code",
   "execution_count": 147,
   "metadata": {},
   "outputs": [
    {
     "name": "stderr",
     "output_type": "stream",
     "text": [
      "/tmp/ipykernel_2022/1653334370.py:9: FutureWarning: The behavior of DataFrame concatenation with empty or all-NA entries is deprecated. In a future version, this will no longer exclude empty or all-NA columns when determining the result dtypes. To retain the old behavior, exclude the relevant entries before the concat operation.\n",
      "  X_train = pd.concat([X_train, train_data], axis=0, ignore_index=True)\n"
     ]
    }
   ],
   "source": [
    "#Make an empty pandas dataframe\n",
    "X_train = pd.DataFrame(columns = ['A', 'B', 'C'])\n",
    "y_train = pd.DataFrame(columns = ['Eye_Status'])\n",
    "\n",
    "for i in range(len(train_data_info)):\n",
    "    name = train_data_info['x'][i]\n",
    "    train_data = pd.read_csv('/workspaces/AITemplate/BrainTechAcademy/Tutorial_Eye_Open_Close/data_train/{}'.format(name),\n",
    "                            names = ['A', 'B', 'C'])\n",
    "    X_train = pd.concat([X_train, train_data], axis=0, ignore_index=True)\n",
    "\n",
    "    target = {'Eye_Status': train_data_info['y'][i]}\n",
    "    \n",
    "    for t in range(len(train_data)):\n",
    "        y_train = pd.concat([y_train, pd.DataFrame(target, index=[0])], ignore_index=True)"
   ]
  },
  {
   "cell_type": "code",
   "execution_count": 148,
   "metadata": {},
   "outputs": [
    {
     "name": "stderr",
     "output_type": "stream",
     "text": [
      "/tmp/ipykernel_2022/3998398698.py:9: FutureWarning: The behavior of DataFrame concatenation with empty or all-NA entries is deprecated. In a future version, this will no longer exclude empty or all-NA columns when determining the result dtypes. To retain the old behavior, exclude the relevant entries before the concat operation.\n",
      "  X_test = pd.concat([X_test, test_data], axis=0, ignore_index=True)\n"
     ]
    }
   ],
   "source": [
    "#Make an empty pandas dataframe\n",
    "X_test = pd.DataFrame(columns = ['A', 'B', 'C'])\n",
    "y_test = pd.DataFrame(columns = ['Eye_Status'])\n",
    "\n",
    "for i in range(len(test_data_info)):\n",
    "    name = test_data_info['x'][i]\n",
    "    test_data = pd.read_csv('/workspaces/AITemplate/BrainTechAcademy/Tutorial_Eye_Open_Close/data_test/{}'.format(name),\n",
    "                            names = ['A', 'B', 'C'])\n",
    "    X_test = pd.concat([X_test, test_data], axis=0, ignore_index=True)\n",
    "\n",
    "    target = {'Eye_Status': test_data_info['y'][i]}\n",
    "    \n",
    "    for t in range(len(test_data)):\n",
    "        y_test = pd.concat([y_test, pd.DataFrame(target, index=[0])], ignore_index=True)"
   ]
  },
  {
   "cell_type": "code",
   "execution_count": 68,
   "metadata": {},
   "outputs": [
    {
     "data": {
      "text/plain": [
       "(21600, 3)"
      ]
     },
     "execution_count": 68,
     "metadata": {},
     "output_type": "execute_result"
    }
   ],
   "source": [
    "X_train.shape"
   ]
  },
  {
   "cell_type": "code",
   "execution_count": 69,
   "metadata": {},
   "outputs": [
    {
     "data": {
      "text/plain": [
       "(21600, 1)"
      ]
     },
     "execution_count": 69,
     "metadata": {},
     "output_type": "execute_result"
    }
   ],
   "source": [
    "y_train.shape"
   ]
  },
  {
   "cell_type": "code",
   "execution_count": 70,
   "metadata": {},
   "outputs": [
    {
     "data": {
      "text/plain": [
       "(7200, 3)"
      ]
     },
     "execution_count": 70,
     "metadata": {},
     "output_type": "execute_result"
    }
   ],
   "source": [
    "X_test.shape"
   ]
  },
  {
   "cell_type": "code",
   "execution_count": 71,
   "metadata": {},
   "outputs": [
    {
     "data": {
      "text/plain": [
       "(7200, 1)"
      ]
     },
     "execution_count": 71,
     "metadata": {},
     "output_type": "execute_result"
    }
   ],
   "source": [
    "y_test.shape"
   ]
  },
  {
   "cell_type": "code",
   "execution_count": 101,
   "metadata": {},
   "outputs": [
    {
     "data": {
      "text/html": [
       "<div>\n",
       "<style scoped>\n",
       "    .dataframe tbody tr th:only-of-type {\n",
       "        vertical-align: middle;\n",
       "    }\n",
       "\n",
       "    .dataframe tbody tr th {\n",
       "        vertical-align: top;\n",
       "    }\n",
       "\n",
       "    .dataframe thead th {\n",
       "        text-align: right;\n",
       "    }\n",
       "</style>\n",
       "<table border=\"1\" class=\"dataframe\">\n",
       "  <thead>\n",
       "    <tr style=\"text-align: right;\">\n",
       "      <th></th>\n",
       "      <th>A</th>\n",
       "      <th>B</th>\n",
       "      <th>C</th>\n",
       "    </tr>\n",
       "  </thead>\n",
       "  <tbody>\n",
       "    <tr>\n",
       "      <th>count</th>\n",
       "      <td>21600.000000</td>\n",
       "      <td>21600.000000</td>\n",
       "      <td>21600.000000</td>\n",
       "    </tr>\n",
       "    <tr>\n",
       "      <th>mean</th>\n",
       "      <td>-0.008764</td>\n",
       "      <td>0.006380</td>\n",
       "      <td>0.009347</td>\n",
       "    </tr>\n",
       "    <tr>\n",
       "      <th>std</th>\n",
       "      <td>7.961090</td>\n",
       "      <td>7.077056</td>\n",
       "      <td>8.156143</td>\n",
       "    </tr>\n",
       "    <tr>\n",
       "      <th>min</th>\n",
       "      <td>-114.100527</td>\n",
       "      <td>-81.164262</td>\n",
       "      <td>-79.773434</td>\n",
       "    </tr>\n",
       "    <tr>\n",
       "      <th>25%</th>\n",
       "      <td>-4.387355</td>\n",
       "      <td>-4.262076</td>\n",
       "      <td>-4.590445</td>\n",
       "    </tr>\n",
       "    <tr>\n",
       "      <th>50%</th>\n",
       "      <td>-0.019827</td>\n",
       "      <td>0.035578</td>\n",
       "      <td>0.050082</td>\n",
       "    </tr>\n",
       "    <tr>\n",
       "      <th>75%</th>\n",
       "      <td>4.277587</td>\n",
       "      <td>4.279244</td>\n",
       "      <td>4.604046</td>\n",
       "    </tr>\n",
       "    <tr>\n",
       "      <th>max</th>\n",
       "      <td>102.808990</td>\n",
       "      <td>86.733703</td>\n",
       "      <td>82.162260</td>\n",
       "    </tr>\n",
       "  </tbody>\n",
       "</table>\n",
       "</div>"
      ],
      "text/plain": [
       "                  A             B             C\n",
       "count  21600.000000  21600.000000  21600.000000\n",
       "mean      -0.008764      0.006380      0.009347\n",
       "std        7.961090      7.077056      8.156143\n",
       "min     -114.100527    -81.164262    -79.773434\n",
       "25%       -4.387355     -4.262076     -4.590445\n",
       "50%       -0.019827      0.035578      0.050082\n",
       "75%        4.277587      4.279244      4.604046\n",
       "max      102.808990     86.733703     82.162260"
      ]
     },
     "execution_count": 101,
     "metadata": {},
     "output_type": "execute_result"
    }
   ],
   "source": [
    "X_train.describe()"
   ]
  },
  {
   "cell_type": "code",
   "execution_count": 149,
   "metadata": {},
   "outputs": [
    {
     "data": {
      "text/html": [
       "<div>\n",
       "<style scoped>\n",
       "    .dataframe tbody tr th:only-of-type {\n",
       "        vertical-align: middle;\n",
       "    }\n",
       "\n",
       "    .dataframe tbody tr th {\n",
       "        vertical-align: top;\n",
       "    }\n",
       "\n",
       "    .dataframe thead th {\n",
       "        text-align: right;\n",
       "    }\n",
       "</style>\n",
       "<table border=\"1\" class=\"dataframe\">\n",
       "  <thead>\n",
       "    <tr style=\"text-align: right;\">\n",
       "      <th></th>\n",
       "      <th>A</th>\n",
       "      <th>B</th>\n",
       "      <th>C</th>\n",
       "    </tr>\n",
       "  </thead>\n",
       "  <tbody>\n",
       "    <tr>\n",
       "      <th>count</th>\n",
       "      <td>21536.000000</td>\n",
       "      <td>21536.000000</td>\n",
       "      <td>21536.000000</td>\n",
       "    </tr>\n",
       "    <tr>\n",
       "      <th>mean</th>\n",
       "      <td>-0.025523</td>\n",
       "      <td>0.019252</td>\n",
       "      <td>0.058618</td>\n",
       "    </tr>\n",
       "    <tr>\n",
       "      <th>std</th>\n",
       "      <td>7.550564</td>\n",
       "      <td>6.860185</td>\n",
       "      <td>7.843613</td>\n",
       "    </tr>\n",
       "    <tr>\n",
       "      <th>min</th>\n",
       "      <td>-39.856821</td>\n",
       "      <td>-36.275836</td>\n",
       "      <td>-39.701546</td>\n",
       "    </tr>\n",
       "    <tr>\n",
       "      <th>25%</th>\n",
       "      <td>-4.373282</td>\n",
       "      <td>-4.247144</td>\n",
       "      <td>-4.561322</td>\n",
       "    </tr>\n",
       "    <tr>\n",
       "      <th>50%</th>\n",
       "      <td>-0.024577</td>\n",
       "      <td>0.042325</td>\n",
       "      <td>0.064611</td>\n",
       "    </tr>\n",
       "    <tr>\n",
       "      <th>75%</th>\n",
       "      <td>4.259952</td>\n",
       "      <td>4.274556</td>\n",
       "      <td>4.604046</td>\n",
       "    </tr>\n",
       "    <tr>\n",
       "      <th>max</th>\n",
       "      <td>39.582962</td>\n",
       "      <td>35.462903</td>\n",
       "      <td>38.144326</td>\n",
       "    </tr>\n",
       "  </tbody>\n",
       "</table>\n",
       "</div>"
      ],
      "text/plain": [
       "                  A             B             C\n",
       "count  21536.000000  21536.000000  21536.000000\n",
       "mean      -0.025523      0.019252      0.058618\n",
       "std        7.550564      6.860185      7.843613\n",
       "min      -39.856821    -36.275836    -39.701546\n",
       "25%       -4.373282     -4.247144     -4.561322\n",
       "50%       -0.024577      0.042325      0.064611\n",
       "75%        4.259952      4.274556      4.604046\n",
       "max       39.582962     35.462903     38.144326"
      ]
     },
     "execution_count": 149,
     "metadata": {},
     "output_type": "execute_result"
    }
   ],
   "source": [
    "y_train = y_train.drop(X_train[X_train[\"A\"] >= 40].index)\n",
    "X_train = X_train.drop(X_train[X_train[\"A\"] >= 40].index)\n",
    "y_train = y_train.drop(X_train[X_train[\"B\"] >= 40].index)\n",
    "X_train = X_train.drop(X_train[X_train[\"B\"] >= 40].index)\n",
    "y_train = y_train.drop(X_train[X_train[\"C\"] >= 40].index)\n",
    "X_train = X_train.drop(X_train[X_train[\"C\"] >= 40].index)\n",
    "\n",
    "y_train = y_train.drop(X_train[X_train[\"A\"] <= -40].index)\n",
    "X_train = X_train.drop(X_train[X_train[\"A\"] <= -40].index)\n",
    "y_train = y_train.drop(X_train[X_train[\"B\"] <= -40].index)\n",
    "X_train = X_train.drop(X_train[X_train[\"B\"] <= -40].index)\n",
    "y_train = y_train.drop(X_train[X_train[\"C\"] <= -40].index)\n",
    "X_train = X_train.drop(X_train[X_train[\"C\"] <= -40].index)\n",
    "\n",
    "X_train.describe()"
   ]
  },
  {
   "cell_type": "code",
   "execution_count": 150,
   "metadata": {},
   "outputs": [
    {
     "data": {
      "text/html": [
       "<div>\n",
       "<style scoped>\n",
       "    .dataframe tbody tr th:only-of-type {\n",
       "        vertical-align: middle;\n",
       "    }\n",
       "\n",
       "    .dataframe tbody tr th {\n",
       "        vertical-align: top;\n",
       "    }\n",
       "\n",
       "    .dataframe thead th {\n",
       "        text-align: right;\n",
       "    }\n",
       "</style>\n",
       "<table border=\"1\" class=\"dataframe\">\n",
       "  <thead>\n",
       "    <tr style=\"text-align: right;\">\n",
       "      <th></th>\n",
       "      <th>A</th>\n",
       "      <th>B</th>\n",
       "      <th>C</th>\n",
       "    </tr>\n",
       "  </thead>\n",
       "  <tbody>\n",
       "    <tr>\n",
       "      <th>count</th>\n",
       "      <td>7200.000000</td>\n",
       "      <td>7200.000000</td>\n",
       "      <td>7200.000000</td>\n",
       "    </tr>\n",
       "    <tr>\n",
       "      <th>mean</th>\n",
       "      <td>0.035703</td>\n",
       "      <td>-0.045687</td>\n",
       "      <td>-0.053433</td>\n",
       "    </tr>\n",
       "    <tr>\n",
       "      <th>std</th>\n",
       "      <td>7.487673</td>\n",
       "      <td>7.332335</td>\n",
       "      <td>8.494258</td>\n",
       "    </tr>\n",
       "    <tr>\n",
       "      <th>min</th>\n",
       "      <td>-28.590311</td>\n",
       "      <td>-26.063178</td>\n",
       "      <td>-36.954110</td>\n",
       "    </tr>\n",
       "    <tr>\n",
       "      <th>25%</th>\n",
       "      <td>-4.429252</td>\n",
       "      <td>-4.594936</td>\n",
       "      <td>-5.070522</td>\n",
       "    </tr>\n",
       "    <tr>\n",
       "      <th>50%</th>\n",
       "      <td>-0.218448</td>\n",
       "      <td>-0.177339</td>\n",
       "      <td>-0.197163</td>\n",
       "    </tr>\n",
       "    <tr>\n",
       "      <th>75%</th>\n",
       "      <td>4.124103</td>\n",
       "      <td>4.254517</td>\n",
       "      <td>4.753597</td>\n",
       "    </tr>\n",
       "    <tr>\n",
       "      <th>max</th>\n",
       "      <td>39.424596</td>\n",
       "      <td>35.454412</td>\n",
       "      <td>37.294761</td>\n",
       "    </tr>\n",
       "  </tbody>\n",
       "</table>\n",
       "</div>"
      ],
      "text/plain": [
       "                 A            B            C\n",
       "count  7200.000000  7200.000000  7200.000000\n",
       "mean      0.035703    -0.045687    -0.053433\n",
       "std       7.487673     7.332335     8.494258\n",
       "min     -28.590311   -26.063178   -36.954110\n",
       "25%      -4.429252    -4.594936    -5.070522\n",
       "50%      -0.218448    -0.177339    -0.197163\n",
       "75%       4.124103     4.254517     4.753597\n",
       "max      39.424596    35.454412    37.294761"
      ]
     },
     "execution_count": 150,
     "metadata": {},
     "output_type": "execute_result"
    }
   ],
   "source": [
    "y_test = y_test.drop(X_test[X_test[\"A\"] >= 40].index)\n",
    "X_test = X_test.drop(X_test[X_test[\"A\"] >= 40].index)\n",
    "y_test = y_test.drop(X_test[X_test[\"B\"] >= 40].index)\n",
    "X_test = X_test.drop(X_test[X_test[\"B\"] >= 40].index)\n",
    "y_test = y_test.drop(X_test[X_test[\"C\"] >= 40].index)\n",
    "X_test = X_test.drop(X_test[X_test[\"C\"] >= 40].index)\n",
    "\n",
    "y_test = y_test.drop(X_test[X_test[\"A\"] <= -40].index)\n",
    "X_test = X_test.drop(X_test[X_test[\"A\"] <= -40].index)\n",
    "y_test = y_test.drop(X_test[X_test[\"B\"] <= -40].index)\n",
    "X_test = X_test.drop(X_test[X_test[\"B\"] <= -40].index)\n",
    "y_test = y_test.drop(X_test[X_test[\"C\"] <= -40].index)\n",
    "X_test = X_test.drop(X_test[X_test[\"C\"] <= -40].index)\n",
    "\n",
    "X_test.describe()"
   ]
  },
  {
   "cell_type": "code",
   "execution_count": 151,
   "metadata": {},
   "outputs": [
    {
     "data": {
      "text/plain": [
       "A    32\n",
       "B    32\n",
       "C    32\n",
       "dtype: int64"
      ]
     },
     "execution_count": 151,
     "metadata": {},
     "output_type": "execute_result"
    }
   ],
   "source": [
    "#Count number of A that is over 30\n",
    "X_train[X_train[\"A\"] <= -30].count()"
   ]
  },
  {
   "cell_type": "code",
   "execution_count": 152,
   "metadata": {},
   "outputs": [
    {
     "data": {
      "text/plain": [
       "(21536, 3)"
      ]
     },
     "execution_count": 152,
     "metadata": {},
     "output_type": "execute_result"
    }
   ],
   "source": [
    "X_train.shape"
   ]
  },
  {
   "cell_type": "code",
   "execution_count": 153,
   "metadata": {},
   "outputs": [
    {
     "data": {
      "text/plain": [
       "(21536, 1)"
      ]
     },
     "execution_count": 153,
     "metadata": {},
     "output_type": "execute_result"
    }
   ],
   "source": [
    "y_train.shape"
   ]
  },
  {
   "cell_type": "code",
   "execution_count": 154,
   "metadata": {},
   "outputs": [
    {
     "data": {
      "text/plain": [
       "(7200, 3)"
      ]
     },
     "execution_count": 154,
     "metadata": {},
     "output_type": "execute_result"
    }
   ],
   "source": [
    "X_test.shape"
   ]
  },
  {
   "cell_type": "code",
   "execution_count": 155,
   "metadata": {},
   "outputs": [
    {
     "data": {
      "text/plain": [
       "(7200, 1)"
      ]
     },
     "execution_count": 155,
     "metadata": {},
     "output_type": "execute_result"
    }
   ],
   "source": [
    "y_test.shape"
   ]
  },
  {
   "cell_type": "code",
   "execution_count": 156,
   "metadata": {},
   "outputs": [
    {
     "data": {
      "text/html": [
       "<div>\n",
       "<style scoped>\n",
       "    .dataframe tbody tr th:only-of-type {\n",
       "        vertical-align: middle;\n",
       "    }\n",
       "\n",
       "    .dataframe tbody tr th {\n",
       "        vertical-align: top;\n",
       "    }\n",
       "\n",
       "    .dataframe thead th {\n",
       "        text-align: right;\n",
       "    }\n",
       "</style>\n",
       "<table border=\"1\" class=\"dataframe\">\n",
       "  <thead>\n",
       "    <tr style=\"text-align: right;\">\n",
       "      <th></th>\n",
       "      <th>A</th>\n",
       "      <th>B</th>\n",
       "      <th>C</th>\n",
       "    </tr>\n",
       "  </thead>\n",
       "  <tbody>\n",
       "    <tr>\n",
       "      <th>count</th>\n",
       "      <td>2.153600e+04</td>\n",
       "      <td>2.153600e+04</td>\n",
       "      <td>2.153600e+04</td>\n",
       "    </tr>\n",
       "    <tr>\n",
       "      <th>mean</th>\n",
       "      <td>1.493675e+01</td>\n",
       "      <td>1.505034e+01</td>\n",
       "      <td>1.507441e+01</td>\n",
       "    </tr>\n",
       "    <tr>\n",
       "      <th>std</th>\n",
       "      <td>1.302708e+01</td>\n",
       "      <td>1.302968e+01</td>\n",
       "      <td>1.319469e+01</td>\n",
       "    </tr>\n",
       "    <tr>\n",
       "      <th>min</th>\n",
       "      <td>1.470699e-16</td>\n",
       "      <td>5.281120e-15</td>\n",
       "      <td>1.717746e-16</td>\n",
       "    </tr>\n",
       "    <tr>\n",
       "      <th>25%</th>\n",
       "      <td>3.735830e-01</td>\n",
       "      <td>4.230984e-01</td>\n",
       "      <td>3.102059e-01</td>\n",
       "    </tr>\n",
       "    <tr>\n",
       "      <th>50%</th>\n",
       "      <td>1.481568e+01</td>\n",
       "      <td>1.531739e+01</td>\n",
       "      <td>1.548441e+01</td>\n",
       "    </tr>\n",
       "    <tr>\n",
       "      <th>75%</th>\n",
       "      <td>2.958221e+01</td>\n",
       "      <td>2.958818e+01</td>\n",
       "      <td>2.970264e+01</td>\n",
       "    </tr>\n",
       "    <tr>\n",
       "      <th>max</th>\n",
       "      <td>3.000000e+01</td>\n",
       "      <td>3.000000e+01</td>\n",
       "      <td>3.000000e+01</td>\n",
       "    </tr>\n",
       "  </tbody>\n",
       "</table>\n",
       "</div>"
      ],
      "text/plain": [
       "                  A             B             C\n",
       "count  2.153600e+04  2.153600e+04  2.153600e+04\n",
       "mean   1.493675e+01  1.505034e+01  1.507441e+01\n",
       "std    1.302708e+01  1.302968e+01  1.319469e+01\n",
       "min    1.470699e-16  5.281120e-15  1.717746e-16\n",
       "25%    3.735830e-01  4.230984e-01  3.102059e-01\n",
       "50%    1.481568e+01  1.531739e+01  1.548441e+01\n",
       "75%    2.958221e+01  2.958818e+01  2.970264e+01\n",
       "max    3.000000e+01  3.000000e+01  3.000000e+01"
      ]
     },
     "execution_count": 156,
     "metadata": {},
     "output_type": "execute_result"
    }
   ],
   "source": [
    "X_train['A'] = 30/(1 + np.exp(-X_train['A']))\n",
    "X_train['B'] = 30/(1 + np.exp(-X_train['B']))\n",
    "X_train['C'] = 30/(1 + np.exp(-X_train['C']))\n",
    "\n",
    "X_test['A'] = 30/(1 + np.exp(-X_test['A']))\n",
    "X_test['B'] = 30/(1 + np.exp(-X_test['B']))\n",
    "X_test['C'] = 30/(1 + np.exp(-X_test['C']))\n",
    "\n",
    "X_train.describe()"
   ]
  },
  {
   "cell_type": "code",
   "execution_count": 157,
   "metadata": {},
   "outputs": [
    {
     "name": "stdout",
     "output_type": "stream",
     "text": [
      "0        10.058161\n",
      "1        16.236589\n",
      "2         8.603797\n",
      "3        16.783886\n",
      "4        29.161798\n",
      "           ...    \n",
      "21595     0.431567\n",
      "21596     0.020721\n",
      "21597     0.002818\n",
      "21598     0.001720\n",
      "21599     0.002918\n",
      "Name: B, Length: 21536, dtype: float64\n"
     ]
    }
   ],
   "source": [
    "print(X_train[\"B\"])"
   ]
  },
  {
   "cell_type": "code",
   "execution_count": 158,
   "metadata": {},
   "outputs": [
    {
     "data": {
      "image/png": "[encoded data removed]",
      "text/plain": [
       "<Figure size 640x480 with 1 Axes>"
      ]
     },
     "metadata": {},
     "output_type": "display_data"
    }
   ],
   "source": [
    "#Graph the data\n",
    "plt.plot(X_train[\"A\"])\n",
    "plt.plot(X_train[\"B\"])\n",
    "plt.plot(X_train[\"C\"])\n",
    "plt.plot(y_train[\"Eye_Status\"]*30)\n",
    "plt.show()"
   ]
  },
  {
   "cell_type": "code",
   "execution_count": 159,
   "metadata": {},
   "outputs": [
    {
     "data": {
      "image/png": "[encoded data removed]",
      "text/plain": [
       "<Figure size 640x480 with 1 Axes>"
      ]
     },
     "metadata": {},
     "output_type": "display_data"
    }
   ],
   "source": [
    "plt.plot(X_test[\"A\"])\n",
    "plt.plot(X_test[\"B\"])\n",
    "plt.plot(X_test[\"C\"])\n",
    "plt.plot(y_test[\"Eye_Status\"]*30)\n",
    "plt.show()"
   ]
  },
  {
   "cell_type": "code",
   "execution_count": 160,
   "metadata": {},
   "outputs": [],
   "source": [
    "y_train = y_train.astype(int)\n",
    "y_test = y_test.astype(int)"
   ]
  },
  {
   "cell_type": "code",
   "execution_count": 161,
   "metadata": {},
   "outputs": [],
   "source": [
    "#Shuffle the data\n",
    "X_train, y_train = shuffle(X_train, y_train)\n",
    "X_test, y_test = shuffle(X_test, y_test)\n",
    "\n",
    "#Reset the index\n",
    "X_train.reset_index(drop=True, inplace=True)\n",
    "y_train.reset_index(drop=True, inplace=True)\n",
    "X_test.reset_index(drop=True, inplace=True)\n",
    "y_test.reset_index(drop=True, inplace=True)"
   ]
  },
  {
   "cell_type": "code",
   "execution_count": 162,
   "metadata": {},
   "outputs": [
    {
     "data": {
      "text/html": [
       "<div>\n",
       "<style scoped>\n",
       "    .dataframe tbody tr th:only-of-type {\n",
       "        vertical-align: middle;\n",
       "    }\n",
       "\n",
       "    .dataframe tbody tr th {\n",
       "        vertical-align: top;\n",
       "    }\n",
       "\n",
       "    .dataframe thead th {\n",
       "        text-align: right;\n",
       "    }\n",
       "</style>\n",
       "<table border=\"1\" class=\"dataframe\">\n",
       "  <thead>\n",
       "    <tr style=\"text-align: right;\">\n",
       "      <th></th>\n",
       "      <th>Eye_Status</th>\n",
       "    </tr>\n",
       "  </thead>\n",
       "  <tbody>\n",
       "    <tr>\n",
       "      <th>0</th>\n",
       "      <td>0</td>\n",
       "    </tr>\n",
       "    <tr>\n",
       "      <th>1</th>\n",
       "      <td>0</td>\n",
       "    </tr>\n",
       "    <tr>\n",
       "      <th>2</th>\n",
       "      <td>1</td>\n",
       "    </tr>\n",
       "    <tr>\n",
       "      <th>3</th>\n",
       "      <td>0</td>\n",
       "    </tr>\n",
       "    <tr>\n",
       "      <th>4</th>\n",
       "      <td>1</td>\n",
       "    </tr>\n",
       "  </tbody>\n",
       "</table>\n",
       "</div>"
      ],
      "text/plain": [
       "   Eye_Status\n",
       "0           0\n",
       "1           0\n",
       "2           1\n",
       "3           0\n",
       "4           1"
      ]
     },
     "execution_count": 162,
     "metadata": {},
     "output_type": "execute_result"
    }
   ],
   "source": [
    "y_train.head()"
   ]
  },
  {
   "cell_type": "code",
   "execution_count": 163,
   "metadata": {},
   "outputs": [
    {
     "name": "stdout",
     "output_type": "stream",
     "text": [
      "0\n"
     ]
    }
   ],
   "source": [
    "print(y_test[\"Eye_Status\"][1])"
   ]
  },
  {
   "cell_type": "code",
   "execution_count": 166,
   "metadata": {},
   "outputs": [
    {
     "name": "stdout",
     "output_type": "stream",
     "text": [
      "Epoch 1/10\n"
     ]
    },
    {
     "name": "stdout",
     "output_type": "stream",
     "text": [
      "539/539 [==============================] - 1s 1ms/step - loss: 0.6957 - accuracy: 0.5324 - val_loss: 0.6878 - val_accuracy: 0.5481\n",
      "Epoch 2/10\n",
      "539/539 [==============================] - 1s 1ms/step - loss: 0.6881 - accuracy: 0.5440 - val_loss: 0.6971 - val_accuracy: 0.5288\n",
      "Epoch 3/10\n",
      "539/539 [==============================] - 1s 1ms/step - loss: 0.6868 - accuracy: 0.5481 - val_loss: 0.6834 - val_accuracy: 0.5601\n",
      "Epoch 4/10\n",
      "539/539 [==============================] - 1s 1ms/step - loss: 0.6856 - accuracy: 0.5512 - val_loss: 0.6880 - val_accuracy: 0.5221\n",
      "Epoch 5/10\n",
      "539/539 [==============================] - 1s 1ms/step - loss: 0.6856 - accuracy: 0.5477 - val_loss: 0.6849 - val_accuracy: 0.5299\n",
      "Epoch 6/10\n",
      "539/539 [==============================] - 1s 1ms/step - loss: 0.6841 - accuracy: 0.5534 - val_loss: 0.6818 - val_accuracy: 0.5562\n",
      "Epoch 7/10\n",
      "539/539 [==============================] - 1s 1ms/step - loss: 0.6841 - accuracy: 0.5567 - val_loss: 0.6818 - val_accuracy: 0.5564\n",
      "Epoch 8/10\n",
      "539/539 [==============================] - 1s 1ms/step - loss: 0.6831 - accuracy: 0.5584 - val_loss: 0.6812 - val_accuracy: 0.5590\n",
      "Epoch 9/10\n",
      "539/539 [==============================] - 1s 1ms/step - loss: 0.6829 - accuracy: 0.5594 - val_loss: 0.6811 - val_accuracy: 0.5604\n",
      "Epoch 10/10\n",
      "539/539 [==============================] - 1s 1ms/step - loss: 0.6828 - accuracy: 0.5549 - val_loss: 0.6802 - val_accuracy: 0.5578\n",
      "Model: \"sequential_16\"\n",
      "_________________________________________________________________\n",
      " Layer (type)                Output Shape              Param #   \n",
      "=================================================================\n",
      " dense_57 (Dense)            (None, 128)               512       \n",
      "                                                                 \n",
      " dense_58 (Dense)            (None, 64)                8256      \n",
      "                                                                 \n",
      " dense_59 (Dense)            (None, 32)                2080      \n",
      "                                                                 \n",
      " dense_60 (Dense)            (None, 1)                 33        \n",
      "                                                                 \n",
      "=================================================================\n",
      "Total params: 10881 (42.50 KB)\n",
      "Trainable params: 10881 (42.50 KB)\n",
      "Non-trainable params: 0 (0.00 Byte)\n",
      "_________________________________________________________________\n",
      "225/225 [==============================] - 0s 838us/step - loss: 0.6913 - accuracy: 0.5392\n",
      "[0.6913227438926697, 0.5391666889190674]\n",
      "225/225 [==============================] - 0s 703us/step\n",
      "[0.2811056]\n",
      "0\n",
      "225/225 [==============================] - 0s 772us/step\n",
      "[0.5444248]\n",
      "0\n",
      "225/225 [==============================] - 0s 689us/step\n",
      "[0.4531721]\n",
      "0\n",
      "225/225 [==============================] - 0s 684us/step\n",
      "[0.28109556]\n",
      "0\n",
      "225/225 [==============================] - 0s 684us/step\n",
      "[0.58179504]\n",
      "1\n",
      "225/225 [==============================] - 0s 685us/step\n",
      "[0.58874863]\n",
      "1\n",
      "225/225 [==============================] - 0s 685us/step\n",
      "[0.28481779]\n",
      "0\n",
      "225/225 [==============================] - 0s 736us/step\n",
      "[0.28574988]\n",
      "0\n",
      "225/225 [==============================] - 0s 682us/step\n",
      "[0.4507264]\n",
      "0\n",
      "225/225 [==============================] - 0s 685us/step\n",
      "[0.5701657]\n",
      "1\n"
     ]
    },
    {
     "data": {
      "image/png": "[encoded data removed]",
      "text/plain": [
       "<Figure size 640x480 with 1 Axes>"
      ]
     },
     "metadata": {},
     "output_type": "display_data"
    }
   ],
   "source": [
    "model = Sequential()\n",
    "model.add(Dense(128, input_dim=3, activation='relu', use_bias = True))\n",
    "model.add(Dense(64, activation='relu', use_bias = True))\n",
    "model.add(Dense(32, activation='relu', use_bias = True))\n",
    "model.add(Dense(1, activation='sigmoid'))\n",
    "\n",
    "model.compile(loss='binary_crossentropy', optimizer='adam', metrics=['accuracy'])\n",
    "history = model.fit(X_train, y_train, epochs=10, batch_size=32, validation_split=0.2)\n",
    "\n",
    "model.summary()\n",
    "print(model.evaluate(X_test, y_test))\n",
    "for i in range(10):\n",
    "    print(model.predict(X_test)[i])\n",
    "    print(y_test[\"Eye_Status\"][i])\n",
    "\n",
    "# summarize history for accuracy\n",
    "plt.plot(history.history['accuracy'])\n",
    "plt.plot(history.history['val_accuracy'])\n",
    "plt.title('model accuracy')\n",
    "plt.ylabel('accuracy')\n",
    "plt.xlabel('epoch')\n",
    "plt.legend(['train', 'test'], loc='upper left')\n",
    "plt.show()"
   ]
  },
  {
   "cell_type": "code",
   "execution_count": null,
   "metadata": {},
   "outputs": [],
   "source": []
  }
 ],
 "metadata": {
  "kernelspec": {
   "display_name": "Python 3",
   "language": "python",
   "name": "python3"
  },
  "language_info": {
   "codemirror_mode": {
    "name": "ipython",
    "version": 3
   },
   "file_extension": ".py",
   "mimetype": "text/x-python",
   "name": "python",
   "nbconvert_exporter": "python",
   "pygments_lexer": "ipython3",
   "version": "3.10.13"
  }
 },
 "nbformat": 4,
 "nbformat_minor": 2
}
