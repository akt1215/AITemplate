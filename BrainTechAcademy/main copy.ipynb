{
 "cells": [
  {
   "cell_type": "code",
   "execution_count": 107,
   "metadata": {},
   "outputs": [],
   "source": [
    "import tensorflow as tf\n",
    "from sklearn.model_selection import train_test_split\n",
    "from sklearn.utils import shuffle\n",
    "from keras.models import Sequential\n",
    "from keras.layers import Dense, Flatten, Conv1D, MaxPooling1D, Input\n",
    "import pandas as pd\n",
    "import matplotlib.pyplot as plt\n",
    "import numpy as np"
   ]
  },
  {
   "cell_type": "code",
   "execution_count": 80,
   "metadata": {},
   "outputs": [],
   "source": [
    "train_data_info = pd.read_csv(\"/workspaces/AITemplate/BrainTechAcademy/data_train/data_train_tutorial_four_classes.csv\",\n",
    "                            names=['data', 'label'])\n",
    "test_data_info = pd.read_csv(\"/workspaces/AITemplate/BrainTechAcademy/data_test/data_test_tutorial_four_classes.csv\",\n",
    "                            names=['data', 'label'])"
   ]
  },
  {
   "cell_type": "code",
   "execution_count": 81,
   "metadata": {},
   "outputs": [],
   "source": [
    "# Drop the data in test_data_info from train_data_info\n",
    "for i in (test_data_info['data']):\n",
    "    train_data_info = train_data_info[train_data_info['data'] != i]\n",
    "\n",
    "train_data_info.reset_index(drop=True, inplace=True)"
   ]
  },
  {
   "cell_type": "code",
   "execution_count": 82,
   "metadata": {},
   "outputs": [
    {
     "name": "stdout",
     "output_type": "stream",
     "text": [
      "72\n"
     ]
    }
   ],
   "source": [
    "print(len(train_data_info))"
   ]
  },
  {
   "cell_type": "code",
   "execution_count": 83,
   "metadata": {},
   "outputs": [
    {
     "name": "stdout",
     "output_type": "stream",
     "text": [
      "<class 'str'>\n"
     ]
    }
   ],
   "source": [
    "print(type((train_data_info.label[19])))"
   ]
  },
  {
   "cell_type": "code",
   "execution_count": 118,
   "metadata": {},
   "outputs": [
    {
     "name": "stderr",
     "output_type": "stream",
     "text": [
      "/tmp/ipykernel_1691/1371109874.py:9: FutureWarning: The behavior of DataFrame concatenation with empty or all-NA entries is deprecated. In a future version, this will no longer exclude empty or all-NA columns when determining the result dtypes. To retain the old behavior, exclude the relevant entries before the concat operation.\n",
      "  X_train = pd.concat([X_train, train], axis=0)\n"
     ]
    }
   ],
   "source": [
    "#how to make an empty dataframe\n",
    "X_train = pd.DataFrame(columns=['one', 'two', 'three'])\n",
    "y_train = pd.DataFrame(columns=['label'])\n",
    "\n",
    "for i in range (len(train_data_info)):\n",
    "    train = pd.read_csv('/workspaces/AITemplate/BrainTechAcademy/data_train/{}'.format(train_data_info.data[i]),\n",
    "                        names=['one', 'two', 'three'])    \n",
    "\n",
    "    X_train = pd.concat([X_train, train], axis=0)\n",
    "    test = {\"label\": train_data_info.label[i]}\n",
    "    \n",
    "    for t in range(len(train)):\n",
    "        y_train = pd.concat([y_train, pd.DataFrame(test, index=[0])], ignore_index=True)\n",
    "\n",
    "X_train.insert(3, \"four\", X_train['one'] + X_train['two'], True)\n",
    "X_train.insert(4, \"five\", X_train['one'] + X_train['three'], True)\n",
    "X_train.insert(5, \"six\", X_train['two'] + X_train['three'], True)\n",
    "X_train.insert(6, \"seven\", X_train['one'] + X_train['two'] + X_train['three'], True)"
   ]
  },
  {
   "cell_type": "code",
   "execution_count": 119,
   "metadata": {},
   "outputs": [
    {
     "name": "stderr",
     "output_type": "stream",
     "text": [
      "/tmp/ipykernel_1691/1449801745.py:9: FutureWarning: The behavior of DataFrame concatenation with empty or all-NA entries is deprecated. In a future version, this will no longer exclude empty or all-NA columns when determining the result dtypes. To retain the old behavior, exclude the relevant entries before the concat operation.\n",
      "  X_test = pd.concat([X_test, train], axis=0)\n"
     ]
    }
   ],
   "source": [
    "#how to make an empty dataframe\n",
    "X_test = pd.DataFrame(columns=['one', 'two', 'three'])\n",
    "y_test = pd.DataFrame(columns=['label'])\n",
    "\n",
    "for i in range (1, len(test_data_info)):\n",
    "    train = pd.read_csv('/workspaces/AITemplate/BrainTechAcademy/data_test/{}'.format(test_data_info.data[i]),\n",
    "                        names=['one', 'two', 'three'])    \n",
    "\n",
    "    X_test = pd.concat([X_test, train], axis=0)\n",
    "    test = {\"label\": test_data_info.label[i]}\n",
    "    \n",
    "    for t in range(len(train)):\n",
    "        y_test = pd.concat([y_test, pd.DataFrame(test, index=[0])], ignore_index=True)\n",
    "\n",
    "X_test.insert(3, \"four\", X_test['one'] + X_test['two'], True)\n",
    "X_test.insert(4, \"five\", X_test['one'] + X_test['three'], True)\n",
    "X_test.insert(5, \"six\", X_test['two'] + X_test['three'], True)\n",
    "X_test.insert(6, \"seven\", X_test['one'] + X_test['two'] + X_test['three'], True)"
   ]
  },
  {
   "cell_type": "code",
   "execution_count": 120,
   "metadata": {},
   "outputs": [
    {
     "data": {
      "text/plain": [
       "(43200, 7)"
      ]
     },
     "execution_count": 120,
     "metadata": {},
     "output_type": "execute_result"
    }
   ],
   "source": [
    "X_train.shape"
   ]
  },
  {
   "cell_type": "code",
   "execution_count": 121,
   "metadata": {},
   "outputs": [
    {
     "data": {
      "text/plain": [
       "(43200, 1)"
      ]
     },
     "execution_count": 121,
     "metadata": {},
     "output_type": "execute_result"
    }
   ],
   "source": [
    "y_train.shape"
   ]
  },
  {
   "cell_type": "code",
   "execution_count": 122,
   "metadata": {},
   "outputs": [
    {
     "data": {
      "text/plain": [
       "(14400, 7)"
      ]
     },
     "execution_count": 122,
     "metadata": {},
     "output_type": "execute_result"
    }
   ],
   "source": [
    "X_test.shape"
   ]
  },
  {
   "cell_type": "code",
   "execution_count": 123,
   "metadata": {},
   "outputs": [
    {
     "data": {
      "text/plain": [
       "(14400, 1)"
      ]
     },
     "execution_count": 123,
     "metadata": {},
     "output_type": "execute_result"
    }
   ],
   "source": [
    "y_test.shape"
   ]
  },
  {
   "cell_type": "code",
   "execution_count": 124,
   "metadata": {},
   "outputs": [
    {
     "data": {
      "text/html": [
       "<div>\n",
       "<style scoped>\n",
       "    .dataframe tbody tr th:only-of-type {\n",
       "        vertical-align: middle;\n",
       "    }\n",
       "\n",
       "    .dataframe tbody tr th {\n",
       "        vertical-align: top;\n",
       "    }\n",
       "\n",
       "    .dataframe thead th {\n",
       "        text-align: right;\n",
       "    }\n",
       "</style>\n",
       "<table border=\"1\" class=\"dataframe\">\n",
       "  <thead>\n",
       "    <tr style=\"text-align: right;\">\n",
       "      <th></th>\n",
       "      <th>one</th>\n",
       "      <th>two</th>\n",
       "      <th>three</th>\n",
       "      <th>four</th>\n",
       "      <th>five</th>\n",
       "      <th>six</th>\n",
       "      <th>seven</th>\n",
       "    </tr>\n",
       "  </thead>\n",
       "  <tbody>\n",
       "    <tr>\n",
       "      <th>count</th>\n",
       "      <td>43200.000000</td>\n",
       "      <td>43200.000000</td>\n",
       "      <td>43200.000000</td>\n",
       "      <td>43200.000000</td>\n",
       "      <td>43200.000000</td>\n",
       "      <td>43200.000000</td>\n",
       "      <td>43200.000000</td>\n",
       "    </tr>\n",
       "    <tr>\n",
       "      <th>mean</th>\n",
       "      <td>0.002308</td>\n",
       "      <td>-0.004452</td>\n",
       "      <td>-0.015449</td>\n",
       "      <td>-0.002144</td>\n",
       "      <td>-0.013141</td>\n",
       "      <td>-0.019900</td>\n",
       "      <td>-0.017593</td>\n",
       "    </tr>\n",
       "    <tr>\n",
       "      <th>std</th>\n",
       "      <td>12.095940</td>\n",
       "      <td>9.365474</td>\n",
       "      <td>10.620233</td>\n",
       "      <td>19.149926</td>\n",
       "      <td>19.850927</td>\n",
       "      <td>19.009182</td>\n",
       "      <td>27.844474</td>\n",
       "    </tr>\n",
       "    <tr>\n",
       "      <th>min</th>\n",
       "      <td>-114.100527</td>\n",
       "      <td>-101.248228</td>\n",
       "      <td>-79.773434</td>\n",
       "      <td>-195.264789</td>\n",
       "      <td>-168.686411</td>\n",
       "      <td>-161.858891</td>\n",
       "      <td>-249.850673</td>\n",
       "    </tr>\n",
       "    <tr>\n",
       "      <th>25%</th>\n",
       "      <td>-5.828912</td>\n",
       "      <td>-4.960459</td>\n",
       "      <td>-5.592376</td>\n",
       "      <td>-10.038552</td>\n",
       "      <td>-10.234582</td>\n",
       "      <td>-10.180451</td>\n",
       "      <td>-14.576279</td>\n",
       "    </tr>\n",
       "    <tr>\n",
       "      <th>50%</th>\n",
       "      <td>-0.171645</td>\n",
       "      <td>-0.045377</td>\n",
       "      <td>0.042433</td>\n",
       "      <td>-0.127400</td>\n",
       "      <td>-0.067054</td>\n",
       "      <td>-0.061730</td>\n",
       "      <td>-0.108604</td>\n",
       "    </tr>\n",
       "    <tr>\n",
       "      <th>75%</th>\n",
       "      <td>5.358912</td>\n",
       "      <td>4.775819</td>\n",
       "      <td>5.588241</td>\n",
       "      <td>9.397816</td>\n",
       "      <td>9.807943</td>\n",
       "      <td>9.801141</td>\n",
       "      <td>13.980866</td>\n",
       "    </tr>\n",
       "    <tr>\n",
       "      <th>max</th>\n",
       "      <td>124.012562</td>\n",
       "      <td>107.653263</td>\n",
       "      <td>82.162260</td>\n",
       "      <td>188.625836</td>\n",
       "      <td>184.971251</td>\n",
       "      <td>167.979106</td>\n",
       "      <td>270.788096</td>\n",
       "    </tr>\n",
       "  </tbody>\n",
       "</table>\n",
       "</div>"
      ],
      "text/plain": [
       "                one           two         three          four          five  \\\n",
       "count  43200.000000  43200.000000  43200.000000  43200.000000  43200.000000   \n",
       "mean       0.002308     -0.004452     -0.015449     -0.002144     -0.013141   \n",
       "std       12.095940      9.365474     10.620233     19.149926     19.850927   \n",
       "min     -114.100527   -101.248228    -79.773434   -195.264789   -168.686411   \n",
       "25%       -5.828912     -4.960459     -5.592376    -10.038552    -10.234582   \n",
       "50%       -0.171645     -0.045377      0.042433     -0.127400     -0.067054   \n",
       "75%        5.358912      4.775819      5.588241      9.397816      9.807943   \n",
       "max      124.012562    107.653263     82.162260    188.625836    184.971251   \n",
       "\n",
       "                six         seven  \n",
       "count  43200.000000  43200.000000  \n",
       "mean      -0.019900     -0.017593  \n",
       "std       19.009182     27.844474  \n",
       "min     -161.858891   -249.850673  \n",
       "25%      -10.180451    -14.576279  \n",
       "50%       -0.061730     -0.108604  \n",
       "75%        9.801141     13.980866  \n",
       "max      167.979106    270.788096  "
      ]
     },
     "execution_count": 124,
     "metadata": {},
     "output_type": "execute_result"
    }
   ],
   "source": [
    "X_train.describe()"
   ]
  },
  {
   "cell_type": "code",
   "execution_count": 125,
   "metadata": {},
   "outputs": [],
   "source": [
    "#Implement sigmoid function to the columns\n",
    "X_train['one'] = 1 / (1 + np.exp(-X_train['one']))\n",
    "X_train['two'] = 1 / (1 + np.exp(-X_train['two']))\n",
    "X_train['three'] = 1 / (1 + np.exp(-X_train['three']))\n",
    "X_train['four'] = 1 / (1 + np.exp(-X_train['four']))\n",
    "X_train['five'] = 1 / (1 + np.exp(-X_train['five']))\n",
    "X_train['six'] = 1 / (1 + np.exp(-X_train['six']))\n",
    "X_train['seven'] = 1 / (1 + np.exp(-X_train['seven']))\n",
    "\n",
    "X_test['one'] = 1 / (1 + np.exp(-X_test['one']))\n",
    "X_test['two'] = 1 / (1 + np.exp(-X_test['two']))\n",
    "X_test['three'] = 1 / (1 + np.exp(-X_test['three']))\n",
    "X_test['four'] = 1 / (1 + np.exp(-X_test['four']))\n",
    "X_test['five'] = 1 / (1 + np.exp(-X_test['five']))\n",
    "X_test['six'] = 1 / (1 + np.exp(-X_test['six']))\n",
    "X_test['seven'] = 1 / (1 + np.exp(-X_test['seven']))"
   ]
  },
  {
   "cell_type": "code",
   "execution_count": 92,
   "metadata": {},
   "outputs": [
    {
     "data": {
      "text/html": [
       "<div>\n",
       "<style scoped>\n",
       "    .dataframe tbody tr th:only-of-type {\n",
       "        vertical-align: middle;\n",
       "    }\n",
       "\n",
       "    .dataframe tbody tr th {\n",
       "        vertical-align: top;\n",
       "    }\n",
       "\n",
       "    .dataframe thead th {\n",
       "        text-align: right;\n",
       "    }\n",
       "</style>\n",
       "<table border=\"1\" class=\"dataframe\">\n",
       "  <thead>\n",
       "    <tr style=\"text-align: right;\">\n",
       "      <th></th>\n",
       "      <th>one</th>\n",
       "      <th>two</th>\n",
       "      <th>three</th>\n",
       "      <th>four</th>\n",
       "      <th>five</th>\n",
       "      <th>six</th>\n",
       "      <th>seven</th>\n",
       "    </tr>\n",
       "  </thead>\n",
       "  <tbody>\n",
       "    <tr>\n",
       "      <th>count</th>\n",
       "      <td>4.320000e+04</td>\n",
       "      <td>4.320000e+04</td>\n",
       "      <td>4.320000e+04</td>\n",
       "      <td>4.320000e+04</td>\n",
       "      <td>4.320000e+04</td>\n",
       "      <td>4.320000e+04</td>\n",
       "      <td>4.320000e+04</td>\n",
       "    </tr>\n",
       "    <tr>\n",
       "      <th>mean</th>\n",
       "      <td>4.915585e-01</td>\n",
       "      <td>4.963044e-01</td>\n",
       "      <td>5.005793e-01</td>\n",
       "      <td>4.962612e-01</td>\n",
       "      <td>4.981071e-01</td>\n",
       "      <td>4.991896e-01</td>\n",
       "      <td>4.983141e-01</td>\n",
       "    </tr>\n",
       "    <tr>\n",
       "      <th>std</th>\n",
       "      <td>4.477936e-01</td>\n",
       "      <td>4.418904e-01</td>\n",
       "      <td>4.497078e-01</td>\n",
       "      <td>4.701510e-01</td>\n",
       "      <td>4.716533e-01</td>\n",
       "      <td>4.714401e-01</td>\n",
       "      <td>4.802372e-01</td>\n",
       "    </tr>\n",
       "    <tr>\n",
       "      <th>min</th>\n",
       "      <td>2.797505e-50</td>\n",
       "      <td>1.067710e-44</td>\n",
       "      <td>2.263800e-35</td>\n",
       "      <td>1.576085e-85</td>\n",
       "      <td>5.500758e-74</td>\n",
       "      <td>5.076647e-71</td>\n",
       "      <td>3.099069e-109</td>\n",
       "    </tr>\n",
       "    <tr>\n",
       "      <th>25%</th>\n",
       "      <td>2.932649e-03</td>\n",
       "      <td>6.960913e-03</td>\n",
       "      <td>3.712333e-03</td>\n",
       "      <td>4.368106e-05</td>\n",
       "      <td>3.590558e-05</td>\n",
       "      <td>3.790267e-05</td>\n",
       "      <td>4.673071e-07</td>\n",
       "    </tr>\n",
       "    <tr>\n",
       "      <th>50%</th>\n",
       "      <td>4.571939e-01</td>\n",
       "      <td>4.886578e-01</td>\n",
       "      <td>5.106066e-01</td>\n",
       "      <td>4.681930e-01</td>\n",
       "      <td>4.832429e-01</td>\n",
       "      <td>4.845725e-01</td>\n",
       "      <td>4.728757e-01</td>\n",
       "    </tr>\n",
       "    <tr>\n",
       "      <th>75%</th>\n",
       "      <td>9.953160e-01</td>\n",
       "      <td>9.916393e-01</td>\n",
       "      <td>9.962723e-01</td>\n",
       "      <td>9.999171e-01</td>\n",
       "      <td>9.999450e-01</td>\n",
       "      <td>9.999446e-01</td>\n",
       "      <td>9.999992e-01</td>\n",
       "    </tr>\n",
       "    <tr>\n",
       "      <th>max</th>\n",
       "      <td>1.000000e+00</td>\n",
       "      <td>1.000000e+00</td>\n",
       "      <td>1.000000e+00</td>\n",
       "      <td>1.000000e+00</td>\n",
       "      <td>1.000000e+00</td>\n",
       "      <td>1.000000e+00</td>\n",
       "      <td>1.000000e+00</td>\n",
       "    </tr>\n",
       "  </tbody>\n",
       "</table>\n",
       "</div>"
      ],
      "text/plain": [
       "                one           two         three          four          five  \\\n",
       "count  4.320000e+04  4.320000e+04  4.320000e+04  4.320000e+04  4.320000e+04   \n",
       "mean   4.915585e-01  4.963044e-01  5.005793e-01  4.962612e-01  4.981071e-01   \n",
       "std    4.477936e-01  4.418904e-01  4.497078e-01  4.701510e-01  4.716533e-01   \n",
       "min    2.797505e-50  1.067710e-44  2.263800e-35  1.576085e-85  5.500758e-74   \n",
       "25%    2.932649e-03  6.960913e-03  3.712333e-03  4.368106e-05  3.590558e-05   \n",
       "50%    4.571939e-01  4.886578e-01  5.106066e-01  4.681930e-01  4.832429e-01   \n",
       "75%    9.953160e-01  9.916393e-01  9.962723e-01  9.999171e-01  9.999450e-01   \n",
       "max    1.000000e+00  1.000000e+00  1.000000e+00  1.000000e+00  1.000000e+00   \n",
       "\n",
       "                six          seven  \n",
       "count  4.320000e+04   4.320000e+04  \n",
       "mean   4.991896e-01   4.983141e-01  \n",
       "std    4.714401e-01   4.802372e-01  \n",
       "min    5.076647e-71  3.099069e-109  \n",
       "25%    3.790267e-05   4.673071e-07  \n",
       "50%    4.845725e-01   4.728757e-01  \n",
       "75%    9.999446e-01   9.999992e-01  \n",
       "max    1.000000e+00   1.000000e+00  "
      ]
     },
     "execution_count": 92,
     "metadata": {},
     "output_type": "execute_result"
    }
   ],
   "source": [
    "X_train.describe()"
   ]
  },
  {
   "cell_type": "code",
   "execution_count": 51,
   "metadata": {},
   "outputs": [
    {
     "name": "stderr",
     "output_type": "stream",
     "text": [
      "/home/codespace/.local/lib/python3.10/site-packages/sklearn/base.py:1152: DataConversionWarning: A column-vector y was passed when a 1d array was expected. Please change the shape of y to (n_samples,), for example using ravel().\n",
      "  return fit_method(estimator, *args, **kwargs)\n"
     ]
    },
    {
     "name": "stdout",
     "output_type": "stream",
     "text": [
      "Accuracy: 0.4170833333333333\n",
      "\n",
      "Classification Report:\n",
      "              precision    recall  f1-score   support\n",
      "\n",
      "           0       0.62      0.49      0.55      3600\n",
      "           1       0.42      0.50      0.46      3600\n",
      "           2       0.32      0.29      0.30      3600\n",
      "           3       0.35      0.38      0.36      3600\n",
      "\n",
      "    accuracy                           0.42     14400\n",
      "   macro avg       0.43      0.42      0.42     14400\n",
      "weighted avg       0.43      0.42      0.42     14400\n",
      "\n"
     ]
    }
   ],
   "source": [
    "from sklearn.ensemble import RandomForestClassifier\n",
    "from sklearn.model_selection import train_test_split\n",
    "from sklearn.metrics import accuracy_score, classification_report\n",
    "\n",
    "#Shuffle the data\n",
    "X_train, y_train = shuffle(X_train, y_train, random_state=42)\n",
    "X_test, y_test = shuffle(X_test, y_test, random_state=42)\n",
    "\n",
    "rf_classifier = RandomForestClassifier(n_estimators=500, random_state=42)\n",
    "\n",
    "rf_classifier.fit(X_train, y_train)\n",
    "\n",
    "y_pred = rf_classifier.predict(X_test)\n",
    "\n",
    "accuracy = accuracy_score(y_test, y_pred)\n",
    "print(\"Accuracy:\", accuracy)\n",
    "\n",
    "print(\"\\nClassification Report:\")\n",
    "print(classification_report(y_test, y_pred))"
   ]
  },
  {
   "cell_type": "code",
   "execution_count": 64,
   "metadata": {},
   "outputs": [
    {
     "name": "stdout",
     "output_type": "stream",
     "text": [
      "Epoch 1/50\n"
     ]
    },
    {
     "name": "stdout",
     "output_type": "stream",
     "text": [
      "1080/1080 [==============================] - 2s 1ms/step - loss: 1.3592 - accuracy: 0.3044 - val_loss: 1.3469 - val_accuracy: 0.3144\n",
      "Epoch 2/50\n",
      "1080/1080 [==============================] - 1s 1ms/step - loss: 1.3449 - accuracy: 0.3212 - val_loss: 1.3439 - val_accuracy: 0.3127\n",
      "Epoch 3/50\n",
      "1080/1080 [==============================] - 1s 1ms/step - loss: 1.3387 - accuracy: 0.3323 - val_loss: 1.3426 - val_accuracy: 0.3391\n",
      "Epoch 4/50\n",
      "1080/1080 [==============================] - 1s 1ms/step - loss: 1.3345 - accuracy: 0.3321 - val_loss: 1.3297 - val_accuracy: 0.3453\n",
      "Epoch 5/50\n",
      "1080/1080 [==============================] - 1s 1ms/step - loss: 1.3310 - accuracy: 0.3380 - val_loss: 1.3351 - val_accuracy: 0.3440\n",
      "Epoch 6/50\n",
      "1080/1080 [==============================] - 2s 1ms/step - loss: 1.3282 - accuracy: 0.3438 - val_loss: 1.3267 - val_accuracy: 0.3520\n",
      "Epoch 7/50\n",
      "1080/1080 [==============================] - 1s 1ms/step - loss: 1.3265 - accuracy: 0.3454 - val_loss: 1.3204 - val_accuracy: 0.3528\n",
      "Epoch 8/50\n",
      "1080/1080 [==============================] - 1s 1ms/step - loss: 1.3245 - accuracy: 0.3431 - val_loss: 1.3199 - val_accuracy: 0.3553\n",
      "Epoch 9/50\n",
      "1080/1080 [==============================] - 1s 1ms/step - loss: 1.3226 - accuracy: 0.3487 - val_loss: 1.3218 - val_accuracy: 0.3539\n",
      "Epoch 10/50\n",
      "1080/1080 [==============================] - 1s 1ms/step - loss: 1.3205 - accuracy: 0.3509 - val_loss: 1.3179 - val_accuracy: 0.3581\n",
      "Epoch 11/50\n",
      "1080/1080 [==============================] - 1s 1ms/step - loss: 1.3180 - accuracy: 0.3548 - val_loss: 1.3159 - val_accuracy: 0.3622\n",
      "Epoch 12/50\n",
      "1080/1080 [==============================] - 1s 1ms/step - loss: 1.3162 - accuracy: 0.3539 - val_loss: 1.3152 - val_accuracy: 0.3586\n",
      "Epoch 13/50\n",
      "1080/1080 [==============================] - 1s 1ms/step - loss: 1.3155 - accuracy: 0.3558 - val_loss: 1.3122 - val_accuracy: 0.3618\n",
      "Epoch 14/50\n",
      "1080/1080 [==============================] - 1s 1ms/step - loss: 1.3139 - accuracy: 0.3563 - val_loss: 1.3141 - val_accuracy: 0.3662\n",
      "Epoch 15/50\n",
      "1080/1080 [==============================] - 1s 1ms/step - loss: 1.3126 - accuracy: 0.3603 - val_loss: 1.3160 - val_accuracy: 0.3559\n",
      "Epoch 16/50\n",
      "1080/1080 [==============================] - 1s 1ms/step - loss: 1.3119 - accuracy: 0.3592 - val_loss: 1.3152 - val_accuracy: 0.3579\n",
      "Epoch 17/50\n",
      "1080/1080 [==============================] - 1s 1ms/step - loss: 1.3111 - accuracy: 0.3580 - val_loss: 1.3139 - val_accuracy: 0.3587\n",
      "Epoch 18/50\n",
      "1080/1080 [==============================] - 1s 1ms/step - loss: 1.3106 - accuracy: 0.3639 - val_loss: 1.3112 - val_accuracy: 0.3612\n",
      "Epoch 19/50\n",
      "1080/1080 [==============================] - 1s 1ms/step - loss: 1.3096 - accuracy: 0.3588 - val_loss: 1.3118 - val_accuracy: 0.3551\n",
      "Epoch 20/50\n",
      "1080/1080 [==============================] - 1s 1ms/step - loss: 1.3091 - accuracy: 0.3655 - val_loss: 1.3086 - val_accuracy: 0.3627\n",
      "Epoch 21/50\n",
      "1080/1080 [==============================] - 1s 1ms/step - loss: 1.3079 - accuracy: 0.3641 - val_loss: 1.3117 - val_accuracy: 0.3694\n",
      "Epoch 22/50\n",
      "1080/1080 [==============================] - 1s 1ms/step - loss: 1.3083 - accuracy: 0.3641 - val_loss: 1.3085 - val_accuracy: 0.3666\n",
      "Epoch 23/50\n",
      "1080/1080 [==============================] - 1s 1ms/step - loss: 1.3073 - accuracy: 0.3657 - val_loss: 1.3065 - val_accuracy: 0.3655\n",
      "Epoch 24/50\n",
      "1080/1080 [==============================] - 1s 1ms/step - loss: 1.3069 - accuracy: 0.3671 - val_loss: 1.3145 - val_accuracy: 0.3641\n",
      "Epoch 25/50\n",
      "1080/1080 [==============================] - 1s 1ms/step - loss: 1.3074 - accuracy: 0.3634 - val_loss: 1.3078 - val_accuracy: 0.3734\n",
      "Epoch 26/50\n",
      "1080/1080 [==============================] - 1s 1ms/step - loss: 1.3054 - accuracy: 0.3701 - val_loss: 1.3096 - val_accuracy: 0.3679\n",
      "Epoch 27/50\n",
      "1080/1080 [==============================] - 1s 1ms/step - loss: 1.3053 - accuracy: 0.3698 - val_loss: 1.3121 - val_accuracy: 0.3679\n",
      "Epoch 28/50\n",
      "1080/1080 [==============================] - 1s 1ms/step - loss: 1.3049 - accuracy: 0.3702 - val_loss: 1.3085 - val_accuracy: 0.3730\n",
      "Epoch 29/50\n",
      "1080/1080 [==============================] - 1s 1ms/step - loss: 1.3055 - accuracy: 0.3669 - val_loss: 1.3089 - val_accuracy: 0.3667\n",
      "Epoch 30/50\n",
      "1080/1080 [==============================] - 1s 1ms/step - loss: 1.3040 - accuracy: 0.3705 - val_loss: 1.3090 - val_accuracy: 0.3670\n",
      "Epoch 31/50\n",
      "1080/1080 [==============================] - 1s 1ms/step - loss: 1.3041 - accuracy: 0.3686 - val_loss: 1.3159 - val_accuracy: 0.3583\n",
      "Epoch 32/50\n",
      "1080/1080 [==============================] - 1s 1ms/step - loss: 1.3031 - accuracy: 0.3722 - val_loss: 1.3082 - val_accuracy: 0.3780\n",
      "Epoch 33/50\n",
      "1080/1080 [==============================] - 1s 1ms/step - loss: 1.3023 - accuracy: 0.3729 - val_loss: 1.3084 - val_accuracy: 0.3677\n",
      "Epoch 34/50\n",
      "1080/1080 [==============================] - 1s 1ms/step - loss: 1.3021 - accuracy: 0.3717 - val_loss: 1.3099 - val_accuracy: 0.3771\n",
      "Epoch 35/50\n",
      "1080/1080 [==============================] - 1s 1ms/step - loss: 1.3026 - accuracy: 0.3711 - val_loss: 1.3059 - val_accuracy: 0.3738\n",
      "Epoch 36/50\n",
      "1080/1080 [==============================] - 1s 1ms/step - loss: 1.3021 - accuracy: 0.3726 - val_loss: 1.3184 - val_accuracy: 0.3679\n",
      "Epoch 37/50\n",
      "1080/1080 [==============================] - 1s 1ms/step - loss: 1.3016 - accuracy: 0.3739 - val_loss: 1.3092 - val_accuracy: 0.3693\n",
      "Epoch 38/50\n",
      "1080/1080 [==============================] - 1s 1ms/step - loss: 1.3008 - accuracy: 0.3733 - val_loss: 1.3028 - val_accuracy: 0.3728\n",
      "Epoch 39/50\n",
      "1080/1080 [==============================] - 1s 1ms/step - loss: 1.3010 - accuracy: 0.3721 - val_loss: 1.3058 - val_accuracy: 0.3757\n",
      "Epoch 40/50\n",
      "1080/1080 [==============================] - 1s 1ms/step - loss: 1.3008 - accuracy: 0.3752 - val_loss: 1.3066 - val_accuracy: 0.3648\n",
      "Epoch 41/50\n",
      "1080/1080 [==============================] - 1s 1ms/step - loss: 1.2998 - accuracy: 0.3750 - val_loss: 1.3033 - val_accuracy: 0.3723\n",
      "Epoch 42/50\n",
      "1080/1080 [==============================] - 1s 1ms/step - loss: 1.2991 - accuracy: 0.3774 - val_loss: 1.3136 - val_accuracy: 0.3470\n",
      "Epoch 43/50\n",
      "1080/1080 [==============================] - 1s 1ms/step - loss: 1.2987 - accuracy: 0.3754 - val_loss: 1.3095 - val_accuracy: 0.3660\n",
      "Epoch 44/50\n",
      "1080/1080 [==============================] - 1s 1ms/step - loss: 1.2979 - accuracy: 0.3758 - val_loss: 1.3108 - val_accuracy: 0.3652\n",
      "Epoch 45/50\n",
      "1080/1080 [==============================] - 1s 1ms/step - loss: 1.2990 - accuracy: 0.3748 - val_loss: 1.3041 - val_accuracy: 0.3690\n",
      "Epoch 46/50\n",
      "1080/1080 [==============================] - 1s 1ms/step - loss: 1.2985 - accuracy: 0.3777 - val_loss: 1.3028 - val_accuracy: 0.3764\n",
      "Epoch 47/50\n",
      "1080/1080 [==============================] - 1s 1ms/step - loss: 1.2982 - accuracy: 0.3740 - val_loss: 1.3050 - val_accuracy: 0.3730\n",
      "Epoch 48/50\n",
      "1080/1080 [==============================] - 1s 1ms/step - loss: 1.2973 - accuracy: 0.3768 - val_loss: 1.3072 - val_accuracy: 0.3719\n",
      "Epoch 49/50\n",
      "1080/1080 [==============================] - 1s 1ms/step - loss: 1.2979 - accuracy: 0.3777 - val_loss: 1.3060 - val_accuracy: 0.3789\n",
      "Epoch 50/50\n",
      "1080/1080 [==============================] - 1s 1ms/step - loss: 1.2980 - accuracy: 0.3736 - val_loss: 1.3035 - val_accuracy: 0.3771\n",
      "Model: \"sequential_11\"\n",
      "_________________________________________________________________\n",
      " Layer (type)                Output Shape              Param #   \n",
      "=================================================================\n",
      " conv1d_20 (Conv1D)          (None, 6, 32)             96        \n",
      "                                                                 \n",
      " max_pooling1d_18 (MaxPooli  (None, 3, 32)             0         \n",
      " ng1D)                                                           \n",
      "                                                                 \n",
      " conv1d_21 (Conv1D)          (None, 2, 64)             4160      \n",
      "                                                                 \n",
      " max_pooling1d_19 (MaxPooli  (None, 1, 64)             0         \n",
      " ng1D)                                                           \n",
      "                                                                 \n",
      " flatten_9 (Flatten)         (None, 64)                0         \n",
      "                                                                 \n",
      " dense_18 (Dense)            (None, 64)                4160      \n",
      "                                                                 \n",
      " dense_19 (Dense)            (None, 32)                2080      \n",
      "                                                                 \n",
      " dense_20 (Dense)            (None, 4)                 132       \n",
      "                                                                 \n",
      "=================================================================\n",
      "Total params: 10628 (41.52 KB)\n",
      "Trainable params: 10628 (41.52 KB)\n",
      "Non-trainable params: 0 (0.00 Byte)\n",
      "_________________________________________________________________\n",
      "450/450 [==============================] - 0s 873us/step - loss: 1.2677 - accuracy: 0.3976\n",
      "Accuracy 0.39763888716697693\n",
      "450/450 [==============================] - 0s 806us/step\n",
      "[[0.17970754 0.28428996 0.2720078  0.26399475]\n",
      " [0.13241446 0.15753843 0.25005016 0.45999697]\n",
      " [0.19681218 0.29041877 0.27254838 0.2402207 ]\n",
      " ...\n",
      " [0.19492956 0.33711866 0.25909182 0.2088599 ]\n",
      " [0.7834853  0.11713354 0.03995365 0.05942748]\n",
      " [0.20334697 0.26788405 0.27062786 0.25814107]]\n"
     ]
    },
    {
     "data": {
      "image/png": "[encoded data removed]",
      "text/plain": [
       "<Figure size 640x480 with 1 Axes>"
      ]
     },
     "metadata": {},
     "output_type": "display_data"
    }
   ],
   "source": [
    "y_train = y_train.astype('int')\n",
    "y_test = y_test.astype('int')\n",
    "model = Sequential()\n",
    "model.add(Conv1D(32, 2, activation='relu', input_shape=(7, 1)))\n",
    "model.add(MaxPooling1D(2))\n",
    "model.add(Conv1D(64, 2, activation='relu'))\n",
    "model.add(MaxPooling1D(2))\n",
    "model.add(Flatten())\n",
    "model.add(Dense(64, activation='relu'))\n",
    "model.add(Dense(32, activation='relu'))\n",
    "model.add(Dense(4, activation='softmax'))\n",
    "\n",
    "model.compile(optimizer='adam', loss='sparse_categorical_crossentropy', metrics=['accuracy'])\n",
    "history = model.fit(X_train, y_train, epochs=50, batch_size=32,validation_split=0.2)\n",
    "model.summary()\n",
    "\n",
    "print(\"Accuracy\", model.evaluate(X_test, y_test)[1])\n",
    "print(model.predict(X_test))\n",
    "\n",
    "plt.plot(history.history['accuracy'], label='accuracy')\n",
    "plt.plot(history.history['val_accuracy'], label = 'val_accuracy')\n",
    "plt.xlabel('Epoch')\n",
    "plt.ylabel('Accuracy')\n",
    "plt.ylim([0, 1])\n",
    "plt.legend(loc='lower right')\n",
    "plt.show()"
   ]
  },
  {
   "cell_type": "code",
   "execution_count": 102,
   "metadata": {},
   "outputs": [],
   "source": [
    "X_train = X_train.reshape(43200, 7)\n",
    "X_test = X_test.reshape(14400, 7)"
   ]
  },
  {
   "cell_type": "code",
   "execution_count": 106,
   "metadata": {},
   "outputs": [
    {
     "data": {
      "text/plain": [
       "array([[2.95751860e-04, 9.83027475e-01, 9.30336748e-01, ...,\n",
       "        3.93531883e-03, 9.98708830e-01, 1.86217299e-01],\n",
       "       [2.38713052e-12, 9.33821355e-09, 3.81596480e-10, ...,\n",
       "        9.10920603e-22, 3.56342945e-18, 8.50637120e-30],\n",
       "       [3.07248481e-08, 1.79771403e-02, 3.17984749e-04, ...,\n",
       "        9.77314112e-12, 5.82292092e-06, 1.78909408e-13],\n",
       "       ...,\n",
       "       [2.85756809e-03, 1.30640545e-02, 1.12729586e-04, ...,\n",
       "        3.23091939e-07, 1.49236564e-06, 4.27676391e-09],\n",
       "       [1.00000000e+00, 9.92426312e-01, 5.76852590e-02, ...,\n",
       "        1.00000000e+00, 8.89154624e-01, 1.00000000e+00],\n",
       "       [4.54765169e-04, 5.57571571e-01, 3.94062939e-03, ...,\n",
       "        1.79996610e-06, 4.96110048e-03, 2.26841087e-06]])"
      ]
     },
     "execution_count": 106,
     "metadata": {},
     "output_type": "execute_result"
    }
   ],
   "source": [
    "X_train"
   ]
  },
  {
   "cell_type": "code",
   "execution_count": 127,
   "metadata": {},
   "outputs": [],
   "source": [
    "y_train = y_train.astype('int')\n",
    "y_test = y_test.astype('int')"
   ]
  },
  {
   "cell_type": "code",
   "execution_count": 138,
   "metadata": {},
   "outputs": [],
   "source": [
    "X_train.drop('four', axis=1, inplace=True)\n",
    "X_train.drop('five', axis=1, inplace=True)\n",
    "X_train.drop('six', axis=1, inplace=True)\n",
    "X_train.drop('seven', axis=1, inplace=True)\n",
    "\n",
    "X_test.drop('four', axis=1, inplace=True)\n",
    "X_test.drop('five', axis=1, inplace=True)\n",
    "X_test.drop('six', axis=1, inplace=True)\n",
    "X_test.drop('seven', axis=1, inplace=True)"
   ]
  },
  {
   "cell_type": "code",
   "execution_count": 141,
   "metadata": {},
   "outputs": [
    {
     "name": "stdout",
     "output_type": "stream",
     "text": [
      "Epoch 1/10\n"
     ]
    },
    {
     "name": "stdout",
     "output_type": "stream",
     "text": [
      "1350/1350 [==============================] - 4s 2ms/step - loss: 1.3664 - accuracy: 0.3140\n",
      "Epoch 2/10\n",
      "1350/1350 [==============================] - 3s 2ms/step - loss: 1.3259 - accuracy: 0.3587\n",
      "Epoch 3/10\n",
      "1350/1350 [==============================] - 3s 2ms/step - loss: 1.3151 - accuracy: 0.3682\n",
      "Epoch 4/10\n",
      "1350/1350 [==============================] - 3s 2ms/step - loss: 1.3088 - accuracy: 0.3709\n",
      "Epoch 5/10\n",
      "1350/1350 [==============================] - 3s 2ms/step - loss: 1.3045 - accuracy: 0.3795\n",
      "Epoch 6/10\n",
      "1350/1350 [==============================] - 3s 2ms/step - loss: 1.3011 - accuracy: 0.3809\n",
      "Epoch 7/10\n",
      "1350/1350 [==============================] - 3s 2ms/step - loss: 1.2990 - accuracy: 0.3829\n",
      "Epoch 8/10\n",
      "1350/1350 [==============================] - 3s 2ms/step - loss: 1.2976 - accuracy: 0.3851\n",
      "Epoch 9/10\n",
      "1350/1350 [==============================] - 3s 2ms/step - loss: 1.2960 - accuracy: 0.3872\n",
      "Epoch 10/10\n",
      "1350/1350 [==============================] - 3s 2ms/step - loss: 1.2952 - accuracy: 0.3867\n",
      "Model: \"sequential_43\"\n",
      "_________________________________________________________________\n",
      " Layer (type)                Output Shape              Param #   \n",
      "=================================================================\n",
      " lstm_8 (LSTM)               (None, 128)               66560     \n",
      "                                                                 \n",
      " dense_54 (Dense)            (None, 64)                8256      \n",
      "                                                                 \n",
      " dense_55 (Dense)            (None, 4)                 260       \n",
      "                                                                 \n",
      "=================================================================\n",
      "Total params: 75076 (293.27 KB)\n",
      "Trainable params: 75076 (293.27 KB)\n",
      "Non-trainable params: 0 (0.00 Byte)\n",
      "_________________________________________________________________\n",
      "450/450 [==============================] - 1s 1ms/step - loss: 1.2530 - accuracy: 0.4096\n",
      "Accuracy [1.2530206441879272, 0.40958333015441895]\n",
      "450/450 [==============================] - 1s 1ms/step\n",
      "[[0.18173641 0.28730005 0.2821991  0.24876434]\n",
      " [0.16142216 0.16044538 0.25416818 0.42396426]\n",
      " [0.15786242 0.18294539 0.25722915 0.40196303]\n",
      " ...\n",
      " [0.20685421 0.30198184 0.2580729  0.23309103]\n",
      " [0.32345405 0.31941265 0.20912006 0.14801322]\n",
      " [0.15845469 0.40264273 0.2601764  0.17872614]]\n",
      "       label\n",
      "0          0\n",
      "1          0\n",
      "2          0\n",
      "3          0\n",
      "4          0\n",
      "...      ...\n",
      "14395      3\n",
      "14396      3\n",
      "14397      3\n",
      "14398      3\n",
      "14399      3\n",
      "\n",
      "[14400 rows x 1 columns]\n"
     ]
    },
    {
     "data": {
      "image/png": "[encoded data removed]",
      "text/plain": [
       "<Figure size 640x480 with 1 Axes>"
      ]
     },
     "metadata": {},
     "output_type": "display_data"
    }
   ],
   "source": [
    "from keras.layers import SimpleRNN, LSTM\n",
    "#Shuffle the data\n",
    "\"\"\"X_train, y_train = shuffle(X_train, y_train, random_state=42)\n",
    "X_test, y_test = shuffle(X_test, y_test, random_state=42)\"\"\"\n",
    "\n",
    "model = Sequential()\n",
    "model.add(Input(shape=(3, 1)))\n",
    "model.add(LSTM(128, return_sequences=False, activation='relu'))\n",
    "#model.add(LSTM(32))\n",
    "model.add(Dense(64, activation='relu'))\n",
    "model.add(Dense(4, activation='softmax'))\n",
    "\n",
    "\n",
    "model.compile(optimizer='RMSprop', loss='sparse_categorical_crossentropy', metrics=['accuracy'])\n",
    "history = model.fit(X_train, y_train, epochs=10, batch_size=32)\n",
    "model.summary()\n",
    "\n",
    "print(\"Accuracy\", model.evaluate(X_test, y_test))\n",
    "print(model.predict(X_test))\n",
    "print(y_test)\n",
    "\n",
    "plt.plot(history.history['accuracy'], label='accuracy')\n",
    "#plt.plot(history.history['val_accuracy'], label = 'val_accuracy')\n",
    "plt.xlabel('Epoch')\n",
    "plt.ylabel('Accuracy')\n",
    "plt.ylim([0, 1])\n",
    "plt.legend(loc='lower right')\n",
    "plt.show()"
   ]
  },
  {
   "cell_type": "code",
   "execution_count": null,
   "metadata": {},
   "outputs": [],
   "source": []
  }
 ],
 "metadata": {
  "kernelspec": {
   "display_name": "Python 3",
   "language": "python",
   "name": "python3"
  },
  "language_info": {
   "codemirror_mode": {
    "name": "ipython",
    "version": 3
   },
   "file_extension": ".py",
   "mimetype": "text/x-python",
   "name": "python",
   "nbconvert_exporter": "python",
   "pygments_lexer": "ipython3",
   "version": "3.10.13"
  }
 },
 "nbformat": 4,
 "nbformat_minor": 2
}
