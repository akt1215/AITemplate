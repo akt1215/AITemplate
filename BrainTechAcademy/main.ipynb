{
 "cells": [
  {
   "cell_type": "code",
   "execution_count": 4,
   "metadata": {},
   "outputs": [],
   "source": [
    "import tensorflow as tf\n",
    "from sklearn.model_selection import train_test_split\n",
    "from sklearn.utils import shuffle\n",
    "from keras.models import Sequential\n",
    "from keras.layers import Dense, Flatten\n",
    "import pandas as pd\n",
    "import matplotlib.pyplot as plt\n",
    "import numpy as np"
   ]
  },
  {
   "cell_type": "code",
   "execution_count": 5,
   "metadata": {},
   "outputs": [],
   "source": [
    "train_data_info = pd.read_csv(\"/workspaces/AITemplate/BrainTechAcademy/data_train/data_train_tutorial_four_classes.csv\",\n",
    "                            names=['data', 'label'])\n",
    "test_data_info = pd.read_csv(\"/workspaces/AITemplate/BrainTechAcademy/data_test/data_test_tutorial_four_classes.csv\",\n",
    "                            names=['data', 'label'])"
   ]
  },
  {
   "cell_type": "code",
   "execution_count": 6,
   "metadata": {},
   "outputs": [],
   "source": [
    "# Drop the data in test_data_info from train_data_info\n",
    "for i in (test_data_info['data']):\n",
    "    train_data_info = train_data_info[train_data_info['data'] != i]\n",
    "\n",
    "train_data_info.reset_index(drop=True, inplace=True)"
   ]
  },
  {
   "cell_type": "code",
   "execution_count": 7,
   "metadata": {},
   "outputs": [
    {
     "name": "stdout",
     "output_type": "stream",
     "text": [
      "test_plug_data_segmentation_1.csv\n",
      "test_plug_data_segmentation_2.csv\n",
      "test_plug_data_segmentation_3.csv\n",
      "test_plug_data_segmentation_4.csv\n",
      "test_plug_data_segmentation_5.csv\n",
      "test_plug_data_segmentation_6.csv\n",
      "test_plug_data_segmentation_7.csv\n",
      "test_plug_data_segmentation_8.csv\n",
      "test_plug_data_segmentation_9.csv\n",
      "test_plug_data_segmentation_10.csv\n",
      "test_plug_data_segmentation_11.csv\n",
      "test_plug_data_segmentation_12.csv\n",
      "test_plug_data_segmentation_13.csv\n",
      "test_plug_data_segmentation_14.csv\n",
      "test_plug_data_segmentation_15.csv\n",
      "test_plug_data_segmentation_16.csv\n",
      "test_plug_data_segmentation_17.csv\n",
      "test_plug_data_segmentation_18.csv\n",
      "test_plug_data_segmentation_31.csv\n",
      "test_plug_data_segmentation_32.csv\n",
      "test_plug_data_segmentation_33.csv\n",
      "test_plug_data_segmentation_34.csv\n",
      "test_plug_data_segmentation_35.csv\n",
      "test_plug_data_segmentation_36.csv\n",
      "test_plug_data_segmentation_37.csv\n",
      "test_plug_data_segmentation_38.csv\n",
      "test_plug_data_segmentation_39.csv\n",
      "test_plug_data_segmentation_40.csv\n",
      "test_plug_data_segmentation_41.csv\n",
      "test_plug_data_segmentation_42.csv\n",
      "test_plug_data_segmentation_43.csv\n",
      "test_plug_data_segmentation_44.csv\n",
      "test_plug_data_segmentation_45.csv\n",
      "test_plug_data_segmentation_46.csv\n",
      "test_plug_data_segmentation_47.csv\n",
      "test_plug_data_segmentation_48.csv\n",
      "test_plug_data_segmentation_151.csv\n",
      "test_plug_data_segmentation_152.csv\n",
      "test_plug_data_segmentation_153.csv\n",
      "test_plug_data_segmentation_154.csv\n",
      "test_plug_data_segmentation_155.csv\n",
      "test_plug_data_segmentation_156.csv\n",
      "test_plug_data_segmentation_157.csv\n",
      "test_plug_data_segmentation_158.csv\n",
      "test_plug_data_segmentation_159.csv\n",
      "test_plug_data_segmentation_160.csv\n",
      "test_plug_data_segmentation_161.csv\n",
      "test_plug_data_segmentation_162.csv\n",
      "test_plug_data_segmentation_163.csv\n",
      "test_plug_data_segmentation_164.csv\n",
      "test_plug_data_segmentation_165.csv\n",
      "test_plug_data_segmentation_166.csv\n",
      "test_plug_data_segmentation_167.csv\n",
      "test_plug_data_segmentation_168.csv\n",
      "test_plug_data_segmentation_181.csv\n",
      "test_plug_data_segmentation_182.csv\n",
      "test_plug_data_segmentation_183.csv\n",
      "test_plug_data_segmentation_184.csv\n",
      "test_plug_data_segmentation_185.csv\n",
      "test_plug_data_segmentation_186.csv\n",
      "test_plug_data_segmentation_187.csv\n",
      "test_plug_data_segmentation_188.csv\n",
      "test_plug_data_segmentation_189.csv\n",
      "test_plug_data_segmentation_190.csv\n",
      "test_plug_data_segmentation_191.csv\n",
      "test_plug_data_segmentation_192.csv\n",
      "test_plug_data_segmentation_193.csv\n",
      "test_plug_data_segmentation_194.csv\n",
      "test_plug_data_segmentation_195.csv\n",
      "test_plug_data_segmentation_196.csv\n",
      "test_plug_data_segmentation_197.csv\n",
      "test_plug_data_segmentation_198.csv\n"
     ]
    }
   ],
   "source": [
    "for i in range(len(train_data_info)):\n",
    "    print(train_data_info.data[i])"
   ]
  },
  {
   "cell_type": "code",
   "execution_count": 8,
   "metadata": {},
   "outputs": [
    {
     "ename": "ValueError",
     "evalue": "could not broadcast input array from shape (0,3) into shape (100,3)",
     "output_type": "error",
     "traceback": [
      "\u001b[0;31m---------------------------------------------------------------------------\u001b[0m",
      "\u001b[0;31mValueError\u001b[0m                                Traceback (most recent call last)",
      "Cell \u001b[0;32mIn[8], line 17\u001b[0m\n\u001b[1;32m     15\u001b[0m     train_data \u001b[38;5;241m=\u001b[39m train\u001b[38;5;241m.\u001b[39mvalues\u001b[38;5;241m.\u001b[39mreshape(\u001b[38;5;241m1\u001b[39m, \u001b[38;5;241m600\u001b[39m, \u001b[38;5;241m3\u001b[39m)\n\u001b[1;32m     16\u001b[0m     \u001b[38;5;28;01mfor\u001b[39;00m t \u001b[38;5;129;01min\u001b[39;00m \u001b[38;5;28mrange\u001b[39m(\u001b[38;5;241m6\u001b[39m):\n\u001b[0;32m---> 17\u001b[0m         \u001b[43mX_train\u001b[49m\u001b[43m[\u001b[49m\u001b[43mi\u001b[49m\u001b[38;5;241;43m*\u001b[39;49m\u001b[38;5;241;43m6\u001b[39;49m\u001b[38;5;241;43m+\u001b[39;49m\u001b[43mt\u001b[49m\u001b[43m]\u001b[49m \u001b[38;5;241m=\u001b[39m train_data[\u001b[38;5;241m0\u001b[39m][:\u001b[38;5;241m100\u001b[39m\u001b[38;5;241m*\u001b[39mt]\n\u001b[1;32m     18\u001b[0m     \u001b[38;5;66;03m#X_train = np.append(X_train, train.values.reshape(1, 600, 3), axis=0) \u001b[39;00m\n\u001b[1;32m     19\u001b[0m \n\u001b[1;32m     20\u001b[0m \u001b[38;5;66;03m# Formatting the training lables into one big numpy array\u001b[39;00m\n\u001b[1;32m     21\u001b[0m     y_train \u001b[38;5;241m=\u001b[39m np\u001b[38;5;241m.\u001b[39mappend(y_train, \u001b[38;5;28mint\u001b[39m(train_data_info[\u001b[38;5;124m'\u001b[39m\u001b[38;5;124mlabel\u001b[39m\u001b[38;5;124m'\u001b[39m][i]))\n",
      "\u001b[0;31mValueError\u001b[0m: could not broadcast input array from shape (0,3) into shape (100,3)"
     ]
    }
   ],
   "source": [
    "X_train = np.zeros((432, 100, 3))\n",
    "y_train = np.zeros(432)\n",
    "for i in range(len(train_data_info)):\n",
    "# Formatting the training data into one big numpy array\n",
    "    train = pd.read_csv('/workspaces/AITemplate/BrainTechAcademy/data_train/{}'.format(train_data_info.data[i]), \n",
    "                        names=['r', 'g', 'b'])  \n",
    "\n",
    "    #apply sigmoid function to normalize the data\n",
    "    train[\"r\"] = 1/(1+tf.exp(-train[\"r\"]))\n",
    "    train[\"g\"] = 1/(1+tf.exp(-train[\"g\"]))\n",
    "    train[\"b\"] = 1/(1+tf.exp(-train[\"b\"]))\n",
    "    train.describe()\n",
    "    \n",
    "    # Convert the data into an image and append the data to the numpy array\n",
    "    train_data = train.values.reshape(1, 600, 3)\n",
    "    for t in range(6):\n",
    "        X_train[i*6+t] = train_data[0][:100*t]\n",
    "    #X_train = np.append(X_train, train.values.reshape(1, 600, 3), axis=0) \n",
    "\n",
    "# Formatting the training lables into one big numpy array\n",
    "    y_train = np.append(y_train, int(train_data_info['label'][i]))\n",
    "\n",
    "y_train = y_train.astype(int)\n",
    "\"\"\" # Display the image\n",
    "    plt.imshow(image)\n",
    "    #plt.imshow(image, cmap='gray', interpolation='none')\n",
    "    #change the size of the figure\n",
    "    plt.axis('off')\n",
    "    plt.show()\"\"\"\n",
    "    "
   ]
  },
  {
   "cell_type": "code",
   "execution_count": 9,
   "metadata": {},
   "outputs": [
    {
     "data": {
      "text/plain": [
       "array([[7.99793813e-01, 9.45952554e-01, 4.53608138e-02],\n",
       "       [7.55875550e-01, 9.73712548e-01, 1.45977322e-01],\n",
       "       [6.45770551e-01, 9.40795313e-01, 1.17527793e-01],\n",
       "       [5.30351062e-01, 9.36505543e-01, 4.31972878e-02],\n",
       "       [5.66795857e-01, 9.85716994e-01, 2.70136449e-02],\n",
       "       [7.74932172e-01, 9.96596984e-01, 3.61922601e-02],\n",
       "       [9.09617004e-01, 9.95343218e-01, 4.20128790e-02],\n",
       "       [9.28178594e-01, 9.70465245e-01, 2.65255256e-02],\n",
       "       [9.09006302e-01, 7.71715552e-01, 1.73718062e-02],\n",
       "       [9.43983694e-01, 4.25844575e-01, 3.01538482e-02],\n",
       "       [9.86638511e-01, 5.53939319e-01, 1.40021219e-01],\n",
       "       [9.95141228e-01, 9.63987763e-01, 5.18856781e-01],\n",
       "       [9.91152802e-01, 9.98801911e-01, 7.09652750e-01],\n",
       "       [9.35333639e-01, 9.98554996e-01, 3.96127871e-01],\n",
       "       [5.25825420e-01, 8.41352691e-01, 3.03484894e-02],\n",
       "       [1.75351610e-01, 3.31001369e-02, 3.75069569e-03],\n",
       "       [3.41017983e-01, 4.07062842e-02, 1.96064393e-02],\n",
       "       [9.33118002e-01, 8.84818122e-01, 7.40483725e-01],\n",
       "       [9.96503702e-01, 9.99078097e-01, 9.96033447e-01],\n",
       "       [9.98337538e-01, 9.99795523e-01, 9.99172715e-01],\n",
       "       [9.98003028e-01, 9.99678540e-01, 9.99100321e-01],\n",
       "       [9.99066256e-01, 9.99251168e-01, 9.98792141e-01],\n",
       "       [9.99464157e-01, 9.91812091e-01, 9.93863673e-01],\n",
       "       [9.97359483e-01, 6.43354619e-01, 8.29463812e-01],\n",
       "       [9.62287885e-01, 6.92627406e-02, 2.63431391e-01],\n",
       "       [8.43896668e-01, 4.16497817e-02, 3.68823576e-01],\n",
       "       [6.78106188e-01, 2.77375698e-02, 6.39227890e-01],\n",
       "       [1.80769422e-01, 2.23486187e-03, 2.26451951e-01],\n",
       "       [1.13027679e-02, 1.85990436e-04, 8.38821264e-03],\n",
       "       [3.41797408e-03, 3.21211134e-04, 2.84010398e-03],\n",
       "       [1.18933508e-02, 4.50888097e-03, 4.28808186e-02],\n",
       "       [1.14995448e-01, 4.65925180e-02, 8.02614306e-01],\n",
       "       [5.36674363e-01, 3.48094393e-01, 9.96001546e-01],\n",
       "       [7.74143641e-01, 9.24001794e-01, 9.99650942e-01],\n",
       "       [6.48358752e-01, 9.84472493e-01, 9.99535488e-01],\n",
       "       [3.12315209e-01, 9.12155986e-01, 9.95614594e-01],\n",
       "       [2.50547012e-01, 3.63748579e-01, 9.83545559e-01],\n",
       "       [4.25703847e-01, 2.74099493e-01, 9.91708529e-01],\n",
       "       [4.68545897e-01, 6.35958729e-01, 9.94171982e-01],\n",
       "       [3.92635142e-01, 7.72370577e-01, 9.80012903e-01],\n",
       "       [6.91776633e-01, 7.18301537e-01, 9.73263781e-01],\n",
       "       [9.59237986e-01, 8.04834183e-01, 9.96490337e-01],\n",
       "       [9.65077983e-01, 8.93313077e-01, 9.98674342e-01],\n",
       "       [6.75113710e-01, 8.08875388e-01, 9.76987821e-01],\n",
       "       [2.83048262e-01, 5.66873697e-01, 5.63464066e-01],\n",
       "       [5.31663450e-01, 5.85166850e-01, 6.06730100e-01],\n",
       "       [6.58986283e-01, 5.91415489e-01, 9.25661136e-01],\n",
       "       [1.44843979e-01, 1.19742474e-01, 8.60848558e-01],\n",
       "       [1.48523363e-02, 4.38504343e-03, 1.65048052e-01],\n",
       "       [4.27425966e-02, 1.73708335e-03, 2.24973046e-02],\n",
       "       [3.66942872e-01, 1.04384108e-02, 3.33951374e-02],\n",
       "       [3.09497690e-01, 3.57495558e-02, 6.19870546e-02],\n",
       "       [2.41576497e-02, 1.58432113e-02, 6.07059440e-02],\n",
       "       [4.55308966e-03, 6.49522406e-03, 1.32808452e-01],\n",
       "       [1.24707302e-02, 1.67421641e-02, 5.68337634e-01],\n",
       "       [7.34872061e-02, 1.51076052e-01, 9.13637378e-01],\n",
       "       [2.51033548e-01, 7.15983863e-01, 9.84470273e-01],\n",
       "       [6.27390858e-01, 9.68389574e-01, 9.98530769e-01],\n",
       "       [8.67554339e-01, 9.90540195e-01, 9.99776097e-01],\n",
       "       [7.98561304e-01, 9.55171003e-01, 9.99291174e-01],\n",
       "       [3.42607577e-01, 3.34785749e-01, 9.62326100e-01],\n",
       "       [1.68704644e-01, 3.16296457e-02, 5.37998166e-01],\n",
       "       [4.59081259e-01, 3.76309688e-02, 6.84695667e-01],\n",
       "       [8.79610361e-01, 1.52512968e-01, 9.67574461e-01],\n",
       "       [9.49294540e-01, 2.54777193e-01, 9.84727487e-01],\n",
       "       [9.28625795e-01, 2.53227241e-01, 8.37150763e-01],\n",
       "       [7.81073553e-01, 3.62088017e-01, 7.57069378e-02],\n",
       "       [2.13176434e-01, 4.57131035e-01, 2.16360477e-03],\n",
       "       [9.06946303e-03, 2.54347347e-01, 2.09188179e-04],\n",
       "       [1.49775988e-03, 1.04598613e-01, 8.58569442e-05],\n",
       "       [7.48174168e-03, 2.11086587e-01, 1.65296822e-04],\n",
       "       [1.85549612e-01, 6.91976338e-01, 6.85115601e-04],\n",
       "       [4.73868669e-01, 8.20947255e-01, 1.04419368e-03],\n",
       "       [9.72456424e-02, 5.15405597e-01, 2.63409553e-04],\n",
       "       [6.55282449e-03, 1.68775772e-01, 4.73210819e-05],\n",
       "       [6.97153248e-03, 1.13107251e-01, 3.96990629e-05],\n",
       "       [6.70545154e-02, 9.29860759e-02, 1.02009454e-04],\n",
       "       [1.10976990e-01, 3.17353167e-02, 9.84770488e-05],\n",
       "       [7.23171320e-03, 6.94457160e-03, 2.39366044e-05],\n",
       "       [5.60079276e-04, 4.26995724e-03, 1.64473686e-05],\n",
       "       [2.89906525e-03, 1.87141475e-02, 2.52126651e-04],\n",
       "       [1.46130035e-01, 3.34121020e-01, 2.19590463e-02],\n",
       "       [3.65945538e-01, 9.48079830e-01, 2.91608728e-01],\n",
       "       [2.56880080e-02, 9.91351841e-01, 2.62202446e-01],\n",
       "       [7.44154826e-04, 9.75567650e-01, 5.59519556e-02],\n",
       "       [3.31031366e-04, 6.83124788e-01, 1.40872581e-02],\n",
       "       [1.00803425e-03, 1.92326566e-01, 1.21645955e-02],\n",
       "       [3.39651624e-03, 3.05654553e-01, 4.39918398e-02],\n",
       "       [1.19351814e-02, 8.99091964e-01, 3.54838517e-01],\n",
       "       [5.06245936e-02, 9.89866004e-01, 8.63355021e-01],\n",
       "       [1.40374373e-01, 9.81641755e-01, 9.61284444e-01],\n",
       "       [3.87461076e-01, 8.85549666e-01, 9.87196213e-01],\n",
       "       [9.25316805e-01, 9.14711226e-01, 9.98615399e-01],\n",
       "       [9.96676890e-01, 9.88707201e-01, 9.99821255e-01],\n",
       "       [9.95275505e-01, 9.71126323e-01, 9.99387061e-01],\n",
       "       [7.39353494e-01, 9.95331669e-02, 9.36854592e-01],\n",
       "       [6.15917994e-02, 4.77804214e-04, 1.67892134e-01],\n",
       "       [6.61478728e-02, 3.68748651e-04, 7.97718326e-02],\n",
       "       [2.77186287e-01, 6.95700086e-03, 2.14331880e-01],\n",
       "       [2.17456444e-01, 2.18800365e-02, 2.10167839e-01]])"
      ]
     },
     "execution_count": 9,
     "metadata": {},
     "output_type": "execute_result"
    }
   ],
   "source": [
    "train_data[0][:100]"
   ]
  },
  {
   "cell_type": "code",
   "execution_count": 36,
   "metadata": {},
   "outputs": [
    {
     "data": {
      "text/plain": [
       "array([[9.53707629e-01, 9.57542295e-01, 9.09699667e-01],\n",
       "       [9.69369582e-01, 9.83181498e-01, 9.72600126e-01],\n",
       "       [8.13909327e-01, 7.71799905e-01, 8.61296854e-01],\n",
       "       ...,\n",
       "       [1.00000000e+00, 1.25555693e-04, 9.98990026e-01],\n",
       "       [1.00000000e+00, 2.74103184e-06, 9.99949631e-01],\n",
       "       [9.62163299e-01, 1.96107707e-03, 9.84183683e-01]])"
      ]
     },
     "execution_count": 36,
     "metadata": {},
     "output_type": "execute_result"
    }
   ],
   "source": [
    "X_train[1]"
   ]
  },
  {
   "cell_type": "code",
   "execution_count": 40,
   "metadata": {},
   "outputs": [],
   "source": [
    "X_test = np.empty((0, 600, 3))\n",
    "y_test = np.empty(0)\n",
    "for i in range(len(test_data_info)-1):\n",
    "# Formatting the training data into one big numpy array\n",
    "    test = pd.read_csv('/workspaces/AITemplate/BrainTechAcademy/data_test/{}'.format(test_data_info.data[i+1]), \n",
    "                        names=['r', 'g', 'b'])  \n",
    "\n",
    "    #apply sigmoid function to normalize the data\n",
    "    test[\"r\"] = 1/(1+tf.exp(-test[\"r\"]))\n",
    "    test[\"g\"] = 1/(1+tf.exp(-test[\"g\"]))\n",
    "    test[\"b\"] = 1/(1+tf.exp(-test[\"b\"]))\n",
    "    \n",
    "    # Convert the data into an image and append the data to the numpy array\n",
    "    X_test = np.append(X_test, test.values.reshape(1, 600, 3), axis=0) \n",
    "\n",
    "# Formatting the training lables into one big numpy array\n",
    "    y_test = np.append(y_test, int(test_data_info['label'][i+1]))\n",
    "\n",
    "y_test = y_test.astype(int)"
   ]
  },
  {
   "cell_type": "code",
   "execution_count": 41,
   "metadata": {},
   "outputs": [],
   "source": [
    "# shuffle the data\n",
    "X_train, y_train = shuffle(X_train, y_train, random_state=0)\n",
    "X_test, y_test = shuffle(X_test, y_test, random_state=0)"
   ]
  },
  {
   "cell_type": "code",
   "execution_count": 42,
   "metadata": {},
   "outputs": [
    {
     "name": "stdout",
     "output_type": "stream",
     "text": [
      "(432, 600, 3) (432,) (24, 600, 3) (24,)\n"
     ]
    }
   ],
   "source": [
    "print(X_train.shape, y_train.shape, X_test.shape, y_test.shape)"
   ]
  },
  {
   "cell_type": "code",
   "execution_count": 19,
   "metadata": {},
   "outputs": [
    {
     "name": "stdout",
     "output_type": "stream",
     "text": [
      "[1 1 2 1 1 2 0 3 1 3 3 1 1 2 1 3 3 3 2 0 3 2 0 2 0 0 3 2 0 2 2 2 3 1 0 3 1\n",
      " 1 2 1 1 0 0 0 0 1 3 0 0 1 2 0 3 2 3 2 2 0 3 0 3 1 0 1 2 1 0 3 3 3 2 2]\n"
     ]
    }
   ],
   "source": [
    "print(y_train)"
   ]
  },
  {
   "cell_type": "code",
   "execution_count": 150,
   "metadata": {},
   "outputs": [
    {
     "name": "stderr",
     "output_type": "stream",
     "text": [
      "2024-03-13 03:35:47.060187: W external/local_tsl/tsl/framework/cpu_allocator_impl.cc:83] Allocation of 13824000000 exceeds 10% of free system memory.\n"
     ]
    },
    {
     "ename": "",
     "evalue": "",
     "output_type": "error",
     "traceback": [
      "\u001b[1;31mThe Kernel crashed while executing code in the the current cell or a previous cell. Please review the code in the cell(s) to identify a possible cause of the failure. Click <a href='https://aka.ms/vscodeJupyterKernelCrash'>here</a> for more info. View Jupyter <a href='command:jupyter.viewOutput'>log</a> for further details."
     ]
    }
   ],
   "source": [
    "model = Sequential()\n",
    "model.add(Flatten(input_shape=(600, 600, 600)))\n",
    "#model.add(Dense(32, input_dim=600*3, activation='relu'))\n",
    "model.add(Dense(16, activation='relu'))\n",
    "model.add(Dense(4, activation='softmax'))\n",
    "\n",
    "model.compile(loss='sparse_categorical_crossentropy', optimizer='adam', metrics=['accuracy'])\n",
    "\n",
    "number_of_epochs = 50\n",
    "history = model.fit(X_train.reshape(71, 600*3), y_train, epochs=number_of_epochs, batch_size=10, validation_split=0.2, verbose=1, shuffle=True)\n",
    "\n",
    "model.evaluate(X_test.reshape(24, 600*3), y_test)\n",
    "print(\"Accuracy: \", model.evaluate(X_test.reshape(24, 600*3), y_test))\n",
    "plt.plot(history.history['accuracy'])\n",
    "plt.show()"
   ]
  },
  {
   "cell_type": "code",
   "execution_count": null,
   "metadata": {},
   "outputs": [],
   "source": []
  }
 ],
 "metadata": {
  "kernelspec": {
   "display_name": "Python 3",
   "language": "python",
   "name": "python3"
  },
  "language_info": {
   "codemirror_mode": {
    "name": "ipython",
    "version": 3
   },
   "file_extension": ".py",
   "mimetype": "text/x-python",
   "name": "python",
   "nbconvert_exporter": "python",
   "pygments_lexer": "ipython3",
   "version": "3.10.13"
  }
 },
 "nbformat": 4,
 "nbformat_minor": 2
}
