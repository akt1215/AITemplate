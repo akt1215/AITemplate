{
 "cells": [
  {
   "cell_type": "code",
   "execution_count": 3,
   "metadata": {},
   "outputs": [
    {
     "name": "stderr",
     "output_type": "stream",
     "text": [
      "2024-03-19 09:51:05.457726: I external/local_tsl/tsl/cuda/cudart_stub.cc:31] Could not find cuda drivers on your machine, GPU will not be used.\n",
      "2024-03-19 09:51:05.490157: E external/local_xla/xla/stream_executor/cuda/cuda_dnn.cc:9261] Unable to register cuDNN factory: Attempting to register factory for plugin cuDNN when one has already been registered\n",
      "2024-03-19 09:51:05.490185: E external/local_xla/xla/stream_executor/cuda/cuda_fft.cc:607] Unable to register cuFFT factory: Attempting to register factory for plugin cuFFT when one has already been registered\n",
      "2024-03-19 09:51:05.491287: E external/local_xla/xla/stream_executor/cuda/cuda_blas.cc:1515] Unable to register cuBLAS factory: Attempting to register factory for plugin cuBLAS when one has already been registered\n",
      "2024-03-19 09:51:05.496858: I external/local_tsl/tsl/cuda/cudart_stub.cc:31] Could not find cuda drivers on your machine, GPU will not be used.\n",
      "2024-03-19 09:51:05.497900: I tensorflow/core/platform/cpu_feature_guard.cc:182] This TensorFlow binary is optimized to use available CPU instructions in performance-critical operations.\n",
      "To enable the following instructions: AVX2 FMA, in other operations, rebuild TensorFlow with the appropriate compiler flags.\n",
      "2024-03-19 09:51:06.405973: W tensorflow/compiler/tf2tensorrt/utils/py_utils.cc:38] TF-TRT Warning: Could not find TensorRT\n"
     ]
    }
   ],
   "source": [
    "import tensorflow as tf\n",
    "from sklearn.model_selection import train_test_split\n",
    "from sklearn.utils import shuffle\n",
    "from keras.models import Sequential\n",
    "from keras.layers import Dense, Flatten, Conv1D, MaxPooling1D\n",
    "import pandas as pd\n",
    "import matplotlib.pyplot as plt\n",
    "import numpy as np"
   ]
  },
  {
   "cell_type": "code",
   "execution_count": 4,
   "metadata": {},
   "outputs": [],
   "source": [
    "train_data_info = pd.read_csv(\"/workspaces/AITemplate/BrainTechAcademy/data_train/data_train_tutorial_four_classes.csv\",\n",
    "                            names=['data', 'label'])\n",
    "test_data_info = pd.read_csv(\"/workspaces/AITemplate/BrainTechAcademy/data_test/data_test_tutorial_four_classes.csv\",\n",
    "                            names=['data', 'label'])"
   ]
  },
  {
   "cell_type": "code",
   "execution_count": 5,
   "metadata": {},
   "outputs": [],
   "source": [
    "# Drop the data in test_data_info from train_data_info\n",
    "for i in (test_data_info['data']):\n",
    "    train_data_info = train_data_info[train_data_info['data'] != i]\n",
    "\n",
    "train_data_info.reset_index(drop=True, inplace=True)"
   ]
  },
  {
   "cell_type": "code",
   "execution_count": 4,
   "metadata": {},
   "outputs": [
    {
     "data": {
      "text/plain": [
       "'for i in range(len(train_data_info)):\\n    print(train_data_info.data[i])'"
      ]
     },
     "execution_count": 4,
     "metadata": {},
     "output_type": "execute_result"
    }
   ],
   "source": [
    "\"\"\"for i in range(len(train_data_info)):\n",
    "    print(train_data_info.data[i])\"\"\""
   ]
  },
  {
   "cell_type": "code",
   "execution_count": 6,
   "metadata": {},
   "outputs": [],
   "source": [
    "split = 60\n",
    "length = int(600/split)\n",
    "span = 200"
   ]
  },
  {
   "cell_type": "code",
   "execution_count": 7,
   "metadata": {},
   "outputs": [
    {
     "data": {
      "text/plain": [
       "(0, 0, 200, 3)"
      ]
     },
     "execution_count": 7,
     "metadata": {},
     "output_type": "execute_result"
    }
   ],
   "source": [
    "X_train = np.empty((0, 0, span, 3))\n",
    "X_train.shape"
   ]
  },
  {
   "cell_type": "code",
   "execution_count": 8,
   "metadata": {},
   "outputs": [
    {
     "ename": "NameError",
     "evalue": "name 'train_data' is not defined",
     "output_type": "error",
     "traceback": [
      "\u001b[0;31m---------------------------------------------------------------------------\u001b[0m",
      "\u001b[0;31mNameError\u001b[0m                                 Traceback (most recent call last)",
      "Cell \u001b[0;32mIn[8], line 1\u001b[0m\n\u001b[0;32m----> 1\u001b[0m \u001b[43mtrain_data\u001b[49m[\u001b[38;5;241m0\u001b[39m][\u001b[38;5;241m0\u001b[39m][\u001b[38;5;241m1\u001b[39m]\n",
      "\u001b[0;31mNameError\u001b[0m: name 'train_data' is not defined"
     ]
    }
   ],
   "source": [
    "train_data[0][0][1]"
   ]
  },
  {
   "cell_type": "code",
   "execution_count": 9,
   "metadata": {},
   "outputs": [
    {
     "data": {
      "text/plain": [
       "\" # Display the image\\n    plt.imshow(image)\\n    #plt.imshow(image, cmap='gray', interpolation='none')\\n    #change the size of the figure\\n    plt.axis('off')\\n    plt.show()\""
      ]
     },
     "execution_count": 9,
     "metadata": {},
     "output_type": "execute_result"
    }
   ],
   "source": [
    "X_train = np.empty((0, span, 3))\n",
    "y_train = np.empty(0)\n",
    "for i in range(len(train_data_info)):\n",
    "# Formatting the training data into one big numpy array\n",
    "    train = pd.read_csv('/workspaces/AITemplate/BrainTechAcademy/data_train/{}'.format(train_data_info.data[i]), \n",
    "                        names=['r', 'g', 'b'])  \n",
    "\n",
    "    \"\"\"#apply sigmoid function to normalize the data\n",
    "    train[\"r\"] = 1/(1+tf.exp(-train[\"r\"]))\n",
    "    train[\"g\"] = 1/(1+tf.exp(-train[\"g\"]))\n",
    "    train[\"b\"] = 1/(1+tf.exp(-train[\"b\"]))\n",
    "    train.describe()\"\"\"\n",
    "    \n",
    "    # Convert the data into an image and append the data to the numpy array\n",
    "    train_data = train.values.reshape(1, 600, 3)\n",
    "    for t in range(split-span//length):\n",
    "        X_train = np.append(X_train, train_data[0][length*(t):span+length*(t)].reshape(1, span, 3), axis=0)\n",
    "    # Formatting the training lables into one big numpy array\n",
    "        y_train = np.append(y_train, int(train_data_info['label'][i]))\n",
    "\n",
    "\n",
    "y_train = y_train.astype(int)\n",
    "#X_train = X_train.reshape(X_train.shape[0], span, 3, 1)\n",
    "\n",
    "\"\"\" # Display the image\n",
    "    plt.imshow(image)\n",
    "    #plt.imshow(image, cmap='gray', interpolation='none')\n",
    "    #change the size of the figure\n",
    "    plt.axis('off')\n",
    "    plt.show()\"\"\"\n",
    "    "
   ]
  },
  {
   "cell_type": "code",
   "execution_count": 10,
   "metadata": {},
   "outputs": [
    {
     "data": {
      "text/plain": [
       "(2880, 200, 3)"
      ]
     },
     "execution_count": 10,
     "metadata": {},
     "output_type": "execute_result"
    }
   ],
   "source": [
    "X_train.shape"
   ]
  },
  {
   "cell_type": "code",
   "execution_count": 11,
   "metadata": {},
   "outputs": [],
   "source": [
    "X_test = np.empty((0, span, 3))\n",
    "y_test = np.empty(0)\n",
    "for i in range(len(test_data_info)-1):\n",
    "# Formatting the training data into one big numpy array\n",
    "    test = pd.read_csv('/workspaces/AITemplate/BrainTechAcademy/data_test/{}'.format(test_data_info.data[i+1]), \n",
    "                        names=['r', 'g', 'b'])  \n",
    "\n",
    "    \"\"\"#apply sigmoid function to normalize the data\n",
    "    test[\"r\"] = 1/(1+tf.exp(-test[\"r\"]))\n",
    "    test[\"g\"] = 1/(1+tf.exp(-test[\"g\"]))\n",
    "    test[\"b\"] = 1/(1+tf.exp(-test[\"b\"]))\"\"\"\n",
    "    \n",
    "    # Convert the data into an image and append the data to the numpy array\n",
    "    test_data = test.values.reshape(1, 600, 3)\n",
    "    for t in range(split-span//length):\n",
    "        X_test = np.append(X_test, test_data[0][length*(t):span+length*(t)].reshape(1, span, 3), axis=0)\n",
    "    # Formatting the training lables into one big numpy array\n",
    "        y_test = np.append(y_test, int(test_data_info['label'][i+1]))\n",
    "\n",
    "y_test = y_test.astype(int)\n",
    "#X_test = X_test.reshape(X_test.shape[0], span, 3, 1)"
   ]
  },
  {
   "cell_type": "code",
   "execution_count": 12,
   "metadata": {},
   "outputs": [
    {
     "data": {
      "text/plain": [
       "(960,)"
      ]
     },
     "execution_count": 12,
     "metadata": {},
     "output_type": "execute_result"
    }
   ],
   "source": [
    "y_test.shape"
   ]
  },
  {
   "cell_type": "code",
   "execution_count": 13,
   "metadata": {},
   "outputs": [],
   "source": [
    "# shuffle the data\n",
    "X_train, y_train = shuffle(X_train, y_train, random_state=0)\n",
    "X_test, y_test = shuffle(X_test, y_test, random_state=0)"
   ]
  },
  {
   "cell_type": "code",
   "execution_count": 14,
   "metadata": {},
   "outputs": [
    {
     "name": "stdout",
     "output_type": "stream",
     "text": [
      "(2880, 200, 3) (2880,) (960, 200, 3) (960,)\n"
     ]
    }
   ],
   "source": [
    "print(X_train.shape, y_train.shape, X_test.shape, y_test.shape)"
   ]
  },
  {
   "cell_type": "code",
   "execution_count": 14,
   "metadata": {},
   "outputs": [
    {
     "data": {
      "text/plain": [
       "array([0, 2, 3, ..., 2, 3, 3])"
      ]
     },
     "execution_count": 14,
     "metadata": {},
     "output_type": "execute_result"
    }
   ],
   "source": [
    "y_train"
   ]
  },
  {
   "cell_type": "code",
   "execution_count": 24,
   "metadata": {},
   "outputs": [
    {
     "name": "stdout",
     "output_type": "stream",
     "text": [
      "Model: \"sequential_9\"\n",
      "_________________________________________________________________\n",
      " Layer (type)                Output Shape              Param #   \n",
      "=================================================================\n",
      " conv1d_43 (Conv1D)          (None, 198, 32)           320       \n",
      "                                                                 \n",
      " max_pooling1d_43 (MaxPooli  (None, 99, 32)            0         \n",
      " ng1D)                                                           \n",
      "                                                                 \n",
      " conv1d_44 (Conv1D)          (None, 97, 32)            3104      \n",
      "                                                                 \n",
      " max_pooling1d_44 (MaxPooli  (None, 48, 32)            0         \n",
      " ng1D)                                                           \n",
      "                                                                 \n",
      " conv1d_45 (Conv1D)          (None, 46, 32)            3104      \n",
      "                                                                 \n",
      " max_pooling1d_45 (MaxPooli  (None, 23, 32)            0         \n",
      " ng1D)                                                           \n",
      "                                                                 \n",
      " conv1d_46 (Conv1D)          (None, 21, 32)            3104      \n",
      "                                                                 \n",
      " max_pooling1d_46 (MaxPooli  (None, 10, 32)            0         \n",
      " ng1D)                                                           \n",
      "                                                                 \n",
      " conv1d_47 (Conv1D)          (None, 8, 32)             3104      \n",
      "                                                                 \n",
      " max_pooling1d_47 (MaxPooli  (None, 4, 32)             0         \n",
      " ng1D)                                                           \n",
      "                                                                 \n",
      " flatten_9 (Flatten)         (None, 128)               0         \n",
      "                                                                 \n",
      " dense_18 (Dense)            (None, 256)               33024     \n",
      "                                                                 \n",
      " dense_19 (Dense)            (None, 4)                 1028      \n",
      "                                                                 \n",
      "=================================================================\n",
      "Total params: 46788 (182.77 KB)\n",
      "Trainable params: 46788 (182.77 KB)\n",
      "Non-trainable params: 0 (0.00 Byte)\n",
      "_________________________________________________________________\n",
      "None\n",
      "Epoch 1/10\n"
     ]
    },
    {
     "name": "stdout",
     "output_type": "stream",
     "text": [
      "768/768 [==============================] - 2s 2ms/step - loss: 0.8631 - accuracy: 0.6215 - val_loss: 0.8022 - val_accuracy: 0.6667\n",
      "Epoch 2/10\n",
      "768/768 [==============================] - 1s 2ms/step - loss: 0.5992 - accuracy: 0.7656 - val_loss: 0.7013 - val_accuracy: 0.7066\n",
      "Epoch 3/10\n",
      "768/768 [==============================] - 1s 2ms/step - loss: 0.4713 - accuracy: 0.8190 - val_loss: 0.5912 - val_accuracy: 0.7899\n",
      "Epoch 4/10\n",
      "768/768 [==============================] - 1s 2ms/step - loss: 0.4224 - accuracy: 0.8411 - val_loss: 0.5350 - val_accuracy: 0.7917\n",
      "Epoch 5/10\n",
      "768/768 [==============================] - 1s 2ms/step - loss: 0.3080 - accuracy: 0.8876 - val_loss: 0.3838 - val_accuracy: 0.8715\n",
      "Epoch 6/10\n",
      "768/768 [==============================] - 2s 2ms/step - loss: 0.2190 - accuracy: 0.9227 - val_loss: 0.5526 - val_accuracy: 0.7969\n",
      "Epoch 7/10\n",
      "768/768 [==============================] - 1s 2ms/step - loss: 0.1516 - accuracy: 0.9501 - val_loss: 0.4381 - val_accuracy: 0.8802\n",
      "Epoch 8/10\n",
      "768/768 [==============================] - 1s 2ms/step - loss: 0.1773 - accuracy: 0.9444 - val_loss: 0.4191 - val_accuracy: 0.8542\n",
      "Epoch 9/10\n",
      "768/768 [==============================] - 1s 2ms/step - loss: 0.0878 - accuracy: 0.9731 - val_loss: 0.3699 - val_accuracy: 0.8819\n",
      "Epoch 10/10\n",
      "768/768 [==============================] - 1s 2ms/step - loss: 0.1299 - accuracy: 0.9579 - val_loss: 0.3011 - val_accuracy: 0.9132\n",
      "30/30 [==============================] - 0s 2ms/step - loss: 1.5633 - accuracy: 0.6885\n",
      "30/30 [==============================] - 0s 2ms/step - loss: 1.5633 - accuracy: 0.6885\n",
      "Accuracy:  [1.5633238554000854, 0.6885416507720947]\n"
     ]
    },
    {
     "data": {
      "image/png": "[encoded data removed]",
      "text/plain": [
       "<Figure size 640x480 with 1 Axes>"
      ]
     },
     "metadata": {},
     "output_type": "display_data"
    }
   ],
   "source": [
    "model = Sequential()\n",
    "\"\"\"model.add(Flatten(input_shape=(span, 3)))\n",
    "#model.add(Dense(32, input_dim=600*3, activation='relu'))\n",
    "model.add(Dense(64, activation='relu'))\n",
    "#model.add(Dense(16, activation='relu'))\n",
    "model.add(Dense(4, activation='softmax'))\"\"\"\n",
    "\n",
    "model.add(Conv1D(32, 3, activation='relu', input_shape=(span, 3)))\n",
    "model.add(MaxPooling1D(2))\n",
    "model.add(Conv1D(32, 3, activation='relu'))\n",
    "model.add(MaxPooling1D(2))\n",
    "model.add(Conv1D(32, 3, activation='relu'))\n",
    "model.add(MaxPooling1D(2))\n",
    "model.add(Conv1D(32, 3, activation='relu'))\n",
    "model.add(MaxPooling1D(2))\n",
    "model.add(Conv1D(32, 3, activation='relu'))\n",
    "model.add(MaxPooling1D(2))\n",
    "model.add(Flatten())\n",
    "model.add(Dense(256, activation='relu'))\n",
    "model.add(Dense(4, activation='softmax'))\n",
    "print(model.summary())\n",
    "model.compile(loss='sparse_categorical_crossentropy', optimizer='adam', metrics=['accuracy'])\n",
    "\n",
    "number_of_epochs = 10\n",
    "history = model.fit(X_train, y_train, epochs=number_of_epochs, batch_size=3, validation_split=0.2, verbose=1, shuffle=True)\n",
    "\n",
    "model.evaluate(X_test, y_test)\n",
    "print(\"Accuracy: \", model.evaluate(X_test, y_test))\n",
    "plt.plot(history.history['accuracy'])\n",
    "plt.plot(history.history['val_accuracy'])\n",
    "plt.show()"
   ]
  },
  {
   "cell_type": "code",
   "execution_count": 16,
   "metadata": {},
   "outputs": [
    {
     "data": {
      "text/plain": [
       "(2880, 200, 3)"
      ]
     },
     "execution_count": 16,
     "metadata": {},
     "output_type": "execute_result"
    }
   ],
   "source": [
    "X_train.shape"
   ]
  },
  {
   "cell_type": "code",
   "execution_count": 18,
   "metadata": {},
   "outputs": [
    {
     "name": "stdout",
     "output_type": "stream",
     "text": [
      "Accuracy: 0.771875\n",
      "\n",
      "Classification Report:\n",
      "              precision    recall  f1-score   support\n",
      "\n",
      "           0       0.96      0.81      0.88       240\n",
      "           1       0.76      0.95      0.84       240\n",
      "           2       0.65      0.68      0.66       240\n",
      "           3       0.75      0.65      0.70       240\n",
      "\n",
      "    accuracy                           0.77       960\n",
      "   macro avg       0.78      0.77      0.77       960\n",
      "weighted avg       0.78      0.77      0.77       960\n",
      "\n"
     ]
    }
   ],
   "source": [
    "from sklearn.ensemble import RandomForestClassifier\n",
    "from sklearn.model_selection import train_test_split\n",
    "from sklearn.metrics import accuracy_score, classification_report\n",
    "\n",
    "#X_train, X_test, y_train, y_test = train_test_split(train, test, test_size=0.2, random_state=42)\n",
    "\n",
    "#What is n_estimators?\n",
    "#n_estimators represents the number of trees in the forest. Usually the higher the number of trees the better to learn the data. However, adding a lot of trees can slow down the training process considerably, therefore we do a parameter search to find the best number of trees for the specific use case.\n",
    "\n",
    "#What is RandomForestClassifier?\n",
    "#Random Forest is a popular machine learning algorithm that belongs to the supervised learning technique. It can be used for both Classification and Regression problems in ML. It is based on the concept of ensemble learning, which is a process of combining multiple classifiers to solve a complex problem and to improve the performance of the model.\n",
    "\n",
    "X_train_reshaped = X_train.reshape(X_train.shape[0], -1)\n",
    "X_test_reshaped = X_test.reshape(X_test.shape[0], -1)\n",
    "rf_classifier = RandomForestClassifier(n_estimators=100, random_state=42)\n",
    "\n",
    "rf_classifier.fit(X_train_reshaped, y_train)\n",
    "\n",
    "y_pred = rf_classifier.predict(X_test_reshaped)\n",
    "accuracy = accuracy_score(y_test, y_pred)\n",
    "print(\"Accuracy:\", accuracy)\n",
    "\n",
    "print(\"\\nClassification Report:\")\n",
    "print(classification_report(y_test, y_pred))\n",
    "\n",
    "#What is RandomForestClassifier?\n",
    "#Random Forest is a popular machine learning algorithm that belongs to the supervised learning technique. It can be used for both Classification and Regression problems in ML. It is based on the concept of ensemble learning, which is a process of combining multiple classifiers to solve a complex problem and to improve the performance of the model."
   ]
  },
  {
   "cell_type": "code",
   "execution_count": null,
   "metadata": {},
   "outputs": [],
   "source": []
  }
 ],
 "metadata": {
  "kernelspec": {
   "display_name": "Python 3",
   "language": "python",
   "name": "python3"
  },
  "language_info": {
   "codemirror_mode": {
    "name": "ipython",
    "version": 3
   },
   "file_extension": ".py",
   "mimetype": "text/x-python",
   "name": "python",
   "nbconvert_exporter": "python",
   "pygments_lexer": "ipython3",
   "version": "3.10.13"
  }
 },
 "nbformat": 4,
 "nbformat_minor": 2
}
