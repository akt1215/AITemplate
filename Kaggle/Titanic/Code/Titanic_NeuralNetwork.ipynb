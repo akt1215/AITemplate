{
 "cells": [
  {
   "cell_type": "code",
   "execution_count": 1,
   "metadata": {},
   "outputs": [
    {
     "name": "stderr",
     "output_type": "stream",
     "text": [
      "2024-01-25 02:36:31.448171: I external/local_tsl/tsl/cuda/cudart_stub.cc:31] Could not find cuda drivers on your machine, GPU will not be used.\n",
      "2024-01-25 02:36:31.481498: E external/local_xla/xla/stream_executor/cuda/cuda_dnn.cc:9261] Unable to register cuDNN factory: Attempting to register factory for plugin cuDNN when one has already been registered\n",
      "2024-01-25 02:36:31.481533: E external/local_xla/xla/stream_executor/cuda/cuda_fft.cc:607] Unable to register cuFFT factory: Attempting to register factory for plugin cuFFT when one has already been registered\n",
      "2024-01-25 02:36:31.482590: E external/local_xla/xla/stream_executor/cuda/cuda_blas.cc:1515] Unable to register cuBLAS factory: Attempting to register factory for plugin cuBLAS when one has already been registered\n",
      "2024-01-25 02:36:31.488148: I external/local_tsl/tsl/cuda/cudart_stub.cc:31] Could not find cuda drivers on your machine, GPU will not be used.\n",
      "2024-01-25 02:36:31.489074: I tensorflow/core/platform/cpu_feature_guard.cc:182] This TensorFlow binary is optimized to use available CPU instructions in performance-critical operations.\n",
      "To enable the following instructions: AVX2 FMA, in other operations, rebuild TensorFlow with the appropriate compiler flags.\n",
      "2024-01-25 02:36:32.406158: W tensorflow/compiler/tf2tensorrt/utils/py_utils.cc:38] TF-TRT Warning: Could not find TensorRT\n"
     ]
    }
   ],
   "source": [
    "import pandas as pd\n",
    "import matplotlib.pyplot as plt\n",
    "%matplotlib inline\n",
    "from keras.models import Sequential\n",
    "from keras.layers import Dense\n",
    "train = pd.read_csv('/workspaces/AITemplate/Kaggle/Titanic/Datasets/Titanic_train.csv')\n",
    "test = pd.read_csv('/workspaces/AITemplate/Kaggle/Titanic/Datasets/Titanic_test.csv')"
   ]
  },
  {
   "cell_type": "code",
   "execution_count": 2,
   "metadata": {},
   "outputs": [
    {
     "name": "stdout",
     "output_type": "stream",
     "text": [
      "<class 'pandas.core.frame.DataFrame'>\n",
      "RangeIndex: 891 entries, 0 to 890\n",
      "Data columns (total 12 columns):\n",
      " #   Column       Non-Null Count  Dtype  \n",
      "---  ------       --------------  -----  \n",
      " 0   PassengerId  891 non-null    int64  \n",
      " 1   Survived     891 non-null    int64  \n",
      " 2   Pclass       891 non-null    int64  \n",
      " 3   Name         891 non-null    object \n",
      " 4   Sex          891 non-null    object \n",
      " 5   Age          714 non-null    float64\n",
      " 6   SibSp        891 non-null    int64  \n",
      " 7   Parch        891 non-null    int64  \n",
      " 8   Ticket       891 non-null    object \n",
      " 9   Fare         891 non-null    float64\n",
      " 10  Cabin        204 non-null    object \n",
      " 11  Embarked     889 non-null    object \n",
      "dtypes: float64(2), int64(5), object(5)\n",
      "memory usage: 83.7+ KB\n"
     ]
    }
   ],
   "source": [
    "train.info()"
   ]
  },
  {
   "cell_type": "code",
   "execution_count": 3,
   "metadata": {},
   "outputs": [
    {
     "data": {
      "text/plain": [
       "Embarked\n",
       "0    646\n",
       "1    168\n",
       "2     77\n",
       "Name: count, dtype: int64"
      ]
     },
     "execution_count": 3,
     "metadata": {},
     "output_type": "execute_result"
    }
   ],
   "source": [
    "#Change the categorical data to numerical data\n",
    "train[\"Embarked\"] = train[\"Embarked\"].fillna(\"S\")\n",
    "train[\"Embarked\"] = train[\"Embarked\"].map({\"S\":0, \"C\":1, \"Q\":2}).astype(int)\n",
    "train[\"Embarked\"].value_counts()"
   ]
  },
  {
   "cell_type": "code",
   "execution_count": 4,
   "metadata": {},
   "outputs": [
    {
     "data": {
      "text/plain": [
       "Embarked\n",
       "0    270\n",
       "1    102\n",
       "2     46\n",
       "Name: count, dtype: int64"
      ]
     },
     "execution_count": 4,
     "metadata": {},
     "output_type": "execute_result"
    }
   ],
   "source": [
    "#Change the categorical data to numerical data\n",
    "test[\"Embarked\"] = test[\"Embarked\"].fillna(\"S\")\n",
    "test[\"Embarked\"] = test[\"Embarked\"].map({\"S\":0, \"C\":1, \"Q\":2}).astype(int)\n",
    "test[\"Embarked\"].value_counts()"
   ]
  },
  {
   "cell_type": "code",
   "execution_count": 5,
   "metadata": {},
   "outputs": [
    {
     "data": {
      "text/plain": [
       "Sex\n",
       "0    577\n",
       "1    314\n",
       "Name: count, dtype: int64"
      ]
     },
     "execution_count": 5,
     "metadata": {},
     "output_type": "execute_result"
    }
   ],
   "source": [
    "train[\"Sex\"] = train[\"Sex\"].fillna(\"male\")\n",
    "train[\"Sex\"] = train[\"Sex\"].map({\"male\": 0, \"female\": 1}).astype(int)\n",
    "train[\"Sex\"].value_counts()"
   ]
  },
  {
   "cell_type": "code",
   "execution_count": 6,
   "metadata": {},
   "outputs": [
    {
     "data": {
      "text/plain": [
       "Sex\n",
       "0    266\n",
       "1    152\n",
       "Name: count, dtype: int64"
      ]
     },
     "execution_count": 6,
     "metadata": {},
     "output_type": "execute_result"
    }
   ],
   "source": [
    "test[\"Sex\"] = test[\"Sex\"].fillna(\"male\")\n",
    "test[\"Sex\"] = test[\"Sex\"].map({\"male\": 0, \"female\": 1}).astype(int)\n",
    "test[\"Sex\"].value_counts()"
   ]
  },
  {
   "cell_type": "code",
   "execution_count": 7,
   "metadata": {},
   "outputs": [],
   "source": [
    "train.drop([\"Name\", \"Ticket\", \"Cabin\", \"PassengerId\", \"Age\"], axis=1, inplace=True)"
   ]
  },
  {
   "cell_type": "code",
   "execution_count": 8,
   "metadata": {},
   "outputs": [],
   "source": [
    "test.drop([\"Name\", \"Ticket\", \"Cabin\", \"Age\"], axis=1, inplace=True)"
   ]
  },
  {
   "cell_type": "code",
   "execution_count": 9,
   "metadata": {},
   "outputs": [
    {
     "name": "stdout",
     "output_type": "stream",
     "text": [
      "<class 'pandas.core.frame.DataFrame'>\n",
      "RangeIndex: 891 entries, 0 to 890\n",
      "Data columns (total 7 columns):\n",
      " #   Column    Non-Null Count  Dtype  \n",
      "---  ------    --------------  -----  \n",
      " 0   Survived  891 non-null    int64  \n",
      " 1   Pclass    891 non-null    int64  \n",
      " 2   Sex       891 non-null    int64  \n",
      " 3   SibSp     891 non-null    int64  \n",
      " 4   Parch     891 non-null    int64  \n",
      " 5   Fare      891 non-null    float64\n",
      " 6   Embarked  891 non-null    int64  \n",
      "dtypes: float64(1), int64(6)\n",
      "memory usage: 48.9 KB\n"
     ]
    }
   ],
   "source": [
    "train.info()"
   ]
  },
  {
   "cell_type": "code",
   "execution_count": 10,
   "metadata": {},
   "outputs": [
    {
     "name": "stdout",
     "output_type": "stream",
     "text": [
      "<class 'pandas.core.frame.DataFrame'>\n",
      "RangeIndex: 418 entries, 0 to 417\n",
      "Data columns (total 7 columns):\n",
      " #   Column       Non-Null Count  Dtype  \n",
      "---  ------       --------------  -----  \n",
      " 0   PassengerId  418 non-null    int64  \n",
      " 1   Pclass       418 non-null    int64  \n",
      " 2   Sex          418 non-null    int64  \n",
      " 3   SibSp        418 non-null    int64  \n",
      " 4   Parch        418 non-null    int64  \n",
      " 5   Fare         417 non-null    float64\n",
      " 6   Embarked     418 non-null    int64  \n",
      "dtypes: float64(1), int64(6)\n",
      "memory usage: 23.0 KB\n"
     ]
    }
   ],
   "source": [
    "test.info()"
   ]
  },
  {
   "cell_type": "code",
   "execution_count": 11,
   "metadata": {},
   "outputs": [],
   "source": [
    "X_train = train.drop(\"Survived\", axis=1)\n",
    "y_train = train[\"Survived\"]\n",
    "X_test = test.drop(\"PassengerId\", axis=1)"
   ]
  },
  {
   "cell_type": "code",
   "execution_count": 12,
   "metadata": {},
   "outputs": [
    {
     "name": "stdout",
     "output_type": "stream",
     "text": [
      "Epoch 1/100\n"
     ]
    },
    {
     "name": "stdout",
     "output_type": "stream",
     "text": [
      "223/223 [==============================] - 1s 1ms/step - loss: 0.7295 - accuracy: 0.6566\n",
      "Epoch 2/100\n",
      "223/223 [==============================] - 0s 968us/step - loss: 0.5706 - accuracy: 0.7194\n",
      "Epoch 3/100\n",
      "223/223 [==============================] - 0s 968us/step - loss: 0.5395 - accuracy: 0.7823\n",
      "Epoch 4/100\n",
      "223/223 [==============================] - 0s 1ms/step - loss: 0.5057 - accuracy: 0.7744\n",
      "Epoch 5/100\n",
      "223/223 [==============================] - 0s 958us/step - loss: 0.4976 - accuracy: 0.7789\n",
      "Epoch 6/100\n",
      "223/223 [==============================] - 0s 970us/step - loss: 0.4914 - accuracy: 0.7767\n",
      "Epoch 7/100\n",
      "223/223 [==============================] - 0s 1ms/step - loss: 0.4907 - accuracy: 0.7800\n",
      "Epoch 8/100\n",
      "223/223 [==============================] - 0s 1ms/step - loss: 0.4786 - accuracy: 0.7901\n",
      "Epoch 9/100\n",
      "223/223 [==============================] - 0s 963us/step - loss: 0.4836 - accuracy: 0.7890\n",
      "Epoch 10/100\n",
      "223/223 [==============================] - 0s 1ms/step - loss: 0.5309 - accuracy: 0.7677\n",
      "Epoch 11/100\n",
      "223/223 [==============================] - 0s 965us/step - loss: 0.4621 - accuracy: 0.7969\n",
      "Epoch 12/100\n",
      "223/223 [==============================] - 0s 955us/step - loss: 0.4753 - accuracy: 0.7845\n",
      "Epoch 13/100\n",
      "223/223 [==============================] - 0s 965us/step - loss: 0.4569 - accuracy: 0.8002\n",
      "Epoch 14/100\n",
      "223/223 [==============================] - 0s 952us/step - loss: 0.4668 - accuracy: 0.7901\n",
      "Epoch 15/100\n",
      "223/223 [==============================] - 0s 964us/step - loss: 0.4495 - accuracy: 0.7924\n",
      "Epoch 16/100\n",
      "223/223 [==============================] - 0s 958us/step - loss: 0.4615 - accuracy: 0.7834\n",
      "Epoch 17/100\n",
      "223/223 [==============================] - 0s 955us/step - loss: 0.4892 - accuracy: 0.7845\n",
      "Epoch 18/100\n",
      "223/223 [==============================] - 0s 954us/step - loss: 0.4680 - accuracy: 0.7901\n",
      "Epoch 19/100\n",
      "223/223 [==============================] - 0s 952us/step - loss: 0.4645 - accuracy: 0.7969\n",
      "Epoch 20/100\n",
      "223/223 [==============================] - 0s 1ms/step - loss: 0.4522 - accuracy: 0.8070\n",
      "Epoch 21/100\n",
      "223/223 [==============================] - 0s 958us/step - loss: 0.4529 - accuracy: 0.8025\n",
      "Epoch 22/100\n",
      "223/223 [==============================] - 0s 954us/step - loss: 0.4440 - accuracy: 0.8047\n",
      "Epoch 23/100\n",
      "223/223 [==============================] - 0s 965us/step - loss: 0.4501 - accuracy: 0.8070\n",
      "Epoch 24/100\n",
      "223/223 [==============================] - 0s 957us/step - loss: 0.4378 - accuracy: 0.8058\n",
      "Epoch 25/100\n",
      "223/223 [==============================] - 0s 951us/step - loss: 0.4566 - accuracy: 0.7924\n",
      "Epoch 26/100\n",
      "223/223 [==============================] - 0s 951us/step - loss: 0.4461 - accuracy: 0.7980\n",
      "Epoch 27/100\n",
      "223/223 [==============================] - 0s 1ms/step - loss: 0.4345 - accuracy: 0.8002\n",
      "Epoch 28/100\n",
      "223/223 [==============================] - 0s 1ms/step - loss: 0.4329 - accuracy: 0.8036\n",
      "Epoch 29/100\n",
      "223/223 [==============================] - 0s 991us/step - loss: 0.4506 - accuracy: 0.7901\n",
      "Epoch 30/100\n",
      "223/223 [==============================] - 0s 996us/step - loss: 0.4502 - accuracy: 0.8025\n",
      "Epoch 31/100\n",
      "223/223 [==============================] - 0s 1ms/step - loss: 0.4403 - accuracy: 0.7991\n",
      "Epoch 32/100\n",
      "223/223 [==============================] - 0s 960us/step - loss: 0.4394 - accuracy: 0.8025\n",
      "Epoch 33/100\n",
      "223/223 [==============================] - 0s 975us/step - loss: 0.4367 - accuracy: 0.8013\n",
      "Epoch 34/100\n",
      "223/223 [==============================] - 0s 955us/step - loss: 0.4343 - accuracy: 0.8058\n",
      "Epoch 35/100\n",
      "223/223 [==============================] - 0s 952us/step - loss: 0.4298 - accuracy: 0.8081\n",
      "Epoch 36/100\n",
      "223/223 [==============================] - 0s 953us/step - loss: 0.4364 - accuracy: 0.7980\n",
      "Epoch 37/100\n",
      "223/223 [==============================] - 0s 960us/step - loss: 0.4443 - accuracy: 0.7980\n",
      "Epoch 38/100\n",
      "223/223 [==============================] - 0s 959us/step - loss: 0.4353 - accuracy: 0.8114\n",
      "Epoch 39/100\n",
      "223/223 [==============================] - 0s 1ms/step - loss: 0.4300 - accuracy: 0.8047\n",
      "Epoch 40/100\n",
      "223/223 [==============================] - 0s 951us/step - loss: 0.4368 - accuracy: 0.8103\n",
      "Epoch 41/100\n",
      "223/223 [==============================] - 0s 950us/step - loss: 0.4369 - accuracy: 0.8025\n",
      "Epoch 42/100\n",
      "223/223 [==============================] - 0s 1ms/step - loss: 0.4312 - accuracy: 0.8070\n",
      "Epoch 43/100\n",
      "223/223 [==============================] - 0s 991us/step - loss: 0.4369 - accuracy: 0.8025\n",
      "Epoch 44/100\n",
      "223/223 [==============================] - 0s 955us/step - loss: 0.4385 - accuracy: 0.7890\n",
      "Epoch 45/100\n",
      "223/223 [==============================] - 0s 959us/step - loss: 0.4322 - accuracy: 0.8025\n",
      "Epoch 46/100\n",
      "223/223 [==============================] - 0s 966us/step - loss: 0.4313 - accuracy: 0.8047\n",
      "Epoch 47/100\n",
      "223/223 [==============================] - 0s 961us/step - loss: 0.4289 - accuracy: 0.8092\n",
      "Epoch 48/100\n",
      "223/223 [==============================] - 0s 952us/step - loss: 0.4307 - accuracy: 0.8103\n",
      "Epoch 49/100\n",
      "223/223 [==============================] - 0s 1ms/step - loss: 0.4268 - accuracy: 0.8002\n",
      "Epoch 50/100\n",
      "223/223 [==============================] - 0s 973us/step - loss: 0.4294 - accuracy: 0.8103\n",
      "Epoch 51/100\n",
      "223/223 [==============================] - 0s 956us/step - loss: 0.4271 - accuracy: 0.8137\n",
      "Epoch 52/100\n",
      "223/223 [==============================] - 0s 955us/step - loss: 0.4224 - accuracy: 0.8159\n",
      "Epoch 53/100\n",
      "223/223 [==============================] - 0s 1ms/step - loss: 0.4242 - accuracy: 0.8047\n",
      "Epoch 54/100\n",
      "223/223 [==============================] - 0s 988us/step - loss: 0.4216 - accuracy: 0.8092\n",
      "Epoch 55/100\n",
      "223/223 [==============================] - 0s 959us/step - loss: 0.4601 - accuracy: 0.7957\n",
      "Epoch 56/100\n",
      "223/223 [==============================] - 0s 958us/step - loss: 0.4325 - accuracy: 0.8070\n",
      "Epoch 57/100\n",
      "223/223 [==============================] - 0s 951us/step - loss: 0.4241 - accuracy: 0.8036\n",
      "Epoch 58/100\n",
      "223/223 [==============================] - 0s 1ms/step - loss: 0.4313 - accuracy: 0.7991\n",
      "Epoch 59/100\n",
      "223/223 [==============================] - 0s 967us/step - loss: 0.4245 - accuracy: 0.8070\n",
      "Epoch 60/100\n",
      "223/223 [==============================] - 0s 951us/step - loss: 0.4173 - accuracy: 0.8159\n",
      "Epoch 61/100\n",
      "223/223 [==============================] - 0s 961us/step - loss: 0.4222 - accuracy: 0.8114\n",
      "Epoch 62/100\n",
      "223/223 [==============================] - 0s 956us/step - loss: 0.4149 - accuracy: 0.8137\n",
      "Epoch 63/100\n",
      "223/223 [==============================] - 0s 968us/step - loss: 0.4147 - accuracy: 0.8193\n",
      "Epoch 64/100\n",
      "223/223 [==============================] - 0s 954us/step - loss: 0.4219 - accuracy: 0.8103\n",
      "Epoch 65/100\n",
      "223/223 [==============================] - 0s 972us/step - loss: 0.4156 - accuracy: 0.8081\n",
      "Epoch 66/100\n",
      "223/223 [==============================] - 0s 948us/step - loss: 0.4206 - accuracy: 0.8058\n",
      "Epoch 67/100\n",
      "223/223 [==============================] - 0s 959us/step - loss: 0.4150 - accuracy: 0.8148\n",
      "Epoch 68/100\n",
      "223/223 [==============================] - 0s 1ms/step - loss: 0.4158 - accuracy: 0.8137\n",
      "Epoch 69/100\n",
      "223/223 [==============================] - 0s 958us/step - loss: 0.4173 - accuracy: 0.8114\n",
      "Epoch 70/100\n",
      "223/223 [==============================] - 0s 958us/step - loss: 0.4195 - accuracy: 0.8092\n",
      "Epoch 71/100\n",
      "223/223 [==============================] - 0s 949us/step - loss: 0.4177 - accuracy: 0.8171\n",
      "Epoch 72/100\n",
      "223/223 [==============================] - 0s 955us/step - loss: 0.4107 - accuracy: 0.8058\n",
      "Epoch 73/100\n",
      "223/223 [==============================] - 0s 996us/step - loss: 0.4140 - accuracy: 0.8103\n",
      "Epoch 74/100\n",
      "223/223 [==============================] - 0s 1ms/step - loss: 0.4044 - accuracy: 0.8070\n",
      "Epoch 75/100\n",
      "223/223 [==============================] - 0s 980us/step - loss: 0.4113 - accuracy: 0.8058\n",
      "Epoch 76/100\n",
      "223/223 [==============================] - 0s 1ms/step - loss: 0.4172 - accuracy: 0.8058\n",
      "Epoch 77/100\n",
      "223/223 [==============================] - 0s 1ms/step - loss: 0.4137 - accuracy: 0.8058\n",
      "Epoch 78/100\n",
      "223/223 [==============================] - 0s 1ms/step - loss: 0.4058 - accuracy: 0.8193\n",
      "Epoch 79/100\n",
      "223/223 [==============================] - 0s 967us/step - loss: 0.4083 - accuracy: 0.8047\n",
      "Epoch 80/100\n",
      "223/223 [==============================] - 0s 962us/step - loss: 0.4025 - accuracy: 0.8103\n",
      "Epoch 81/100\n",
      "223/223 [==============================] - 0s 957us/step - loss: 0.4025 - accuracy: 0.8148\n",
      "Epoch 82/100\n",
      "223/223 [==============================] - 0s 965us/step - loss: 0.4116 - accuracy: 0.8137\n",
      "Epoch 83/100\n",
      "223/223 [==============================] - 0s 961us/step - loss: 0.4104 - accuracy: 0.8159\n",
      "Epoch 84/100\n",
      "223/223 [==============================] - 0s 955us/step - loss: 0.4113 - accuracy: 0.8070\n",
      "Epoch 85/100\n",
      "223/223 [==============================] - 0s 951us/step - loss: 0.4000 - accuracy: 0.8159\n",
      "Epoch 86/100\n",
      "223/223 [==============================] - 0s 960us/step - loss: 0.4057 - accuracy: 0.8137\n",
      "Epoch 87/100\n",
      "223/223 [==============================] - 0s 1ms/step - loss: 0.4070 - accuracy: 0.8283\n",
      "Epoch 88/100\n",
      "223/223 [==============================] - 0s 969us/step - loss: 0.3972 - accuracy: 0.8148\n",
      "Epoch 89/100\n",
      "223/223 [==============================] - 0s 949us/step - loss: 0.4046 - accuracy: 0.8114\n",
      "Epoch 90/100\n",
      "223/223 [==============================] - 0s 951us/step - loss: 0.4047 - accuracy: 0.8193\n",
      "Epoch 91/100\n",
      "223/223 [==============================] - 0s 959us/step - loss: 0.3953 - accuracy: 0.8159\n",
      "Epoch 92/100\n",
      "223/223 [==============================] - 0s 957us/step - loss: 0.4035 - accuracy: 0.8137\n",
      "Epoch 93/100\n",
      "223/223 [==============================] - 0s 963us/step - loss: 0.4040 - accuracy: 0.8193\n",
      "Epoch 94/100\n",
      "223/223 [==============================] - 0s 954us/step - loss: 0.4004 - accuracy: 0.8137\n",
      "Epoch 95/100\n",
      "223/223 [==============================] - 0s 960us/step - loss: 0.4003 - accuracy: 0.8148\n",
      "Epoch 96/100\n",
      "223/223 [==============================] - 0s 1ms/step - loss: 0.3962 - accuracy: 0.8137\n",
      "Epoch 97/100\n",
      "223/223 [==============================] - 0s 1ms/step - loss: 0.3946 - accuracy: 0.8193\n",
      "Epoch 98/100\n",
      "223/223 [==============================] - 0s 967us/step - loss: 0.4023 - accuracy: 0.8137\n",
      "Epoch 99/100\n",
      "223/223 [==============================] - 0s 954us/step - loss: 0.4001 - accuracy: 0.8137\n",
      "Epoch 100/100\n",
      "223/223 [==============================] - 0s 1ms/step - loss: 0.3984 - accuracy: 0.8092\n",
      "14/14 [==============================] - 0s 802us/step\n",
      "[[0]\n",
      " [0]\n",
      " [0]\n",
      " [0]\n",
      " [1]\n",
      " [0]\n",
      " [1]\n",
      " [0]\n",
      " [1]\n",
      " [0]]\n"
     ]
    },
    {
     "data": {
      "image/png": "[encoded data removed]",
      "text/plain": [
       "<Figure size 640x480 with 1 Axes>"
      ]
     },
     "metadata": {},
     "output_type": "display_data"
    }
   ],
   "source": [
    "model = Sequential()\n",
    "model.add(Dense(64, activation='relu', input_dim=X_train.shape[1]))\n",
    "model.add(Dense(32, activation='relu'))\n",
    "model.add(Dense(16, activation='relu'))\n",
    "model.add(Dense(1, activation='sigmoid'))\n",
    "model.compile(optimizer=\"adam\", loss=\"binary_crossentropy\", metrics=[\"accuracy\"])\n",
    "\n",
    "number_of_epochs = 100\n",
    "model.fit(X_train, y_train, epochs=number_of_epochs, batch_size=4, verbose=1)\n",
    "\n",
    "plt.scatter(range(number_of_epochs), model.history.history['accuracy'], s=10)\n",
    "predictions = (model.predict(X_test) > 0.5).astype(int)\n",
    "print(predictions[:10])"
   ]
  },
  {
   "cell_type": "code",
   "execution_count": 13,
   "metadata": {},
   "outputs": [
    {
     "name": "stdout",
     "output_type": "stream",
     "text": [
      "Submission exported to /workspaces/AITemplate/Kaggle/Titanic/Submissions/NeuralNetworkSubmission4.csv\n"
     ]
    }
   ],
   "source": [
    "# Creating a submission file\n",
    "def make_submission(kaggle_predictions):\n",
    "    path=\"/workspaces/AITemplate/Kaggle/Titanic/Submissions/NeuralNetworkSubmission4.csv\"\n",
    "    kaggle_predictions.to_csv(path, index=False)\n",
    "    print(f\"Submission exported to {path}\")\n",
    "    \n",
    "kaggle_predictions = pd.DataFrame({\n",
    "    \"PassengerId\": test[\"PassengerId\"],\n",
    "    \"Survived\": predictions.reshape(-1)\n",
    "\n",
    "})\n",
    "make_submission(kaggle_predictions)"
   ]
  },
  {
   "cell_type": "code",
   "execution_count": null,
   "metadata": {},
   "outputs": [],
   "source": []
  }
 ],
 "metadata": {
  "kernelspec": {
   "display_name": "Python 3",
   "language": "python",
   "name": "python3"
  },
  "language_info": {
   "codemirror_mode": {
    "name": "ipython",
    "version": 3
   },
   "file_extension": ".py",
   "mimetype": "text/x-python",
   "name": "python",
   "nbconvert_exporter": "python",
   "pygments_lexer": "ipython3",
   "version": "3.10.13"
  }
 },
 "nbformat": 4,
 "nbformat_minor": 2
}
