{
 "cells": [
  {
   "cell_type": "code",
   "execution_count": 82,
   "metadata": {},
   "outputs": [],
   "source": [
    "import pandas as pd\n",
    "import matplotlib.pyplot as plt\n",
    "%matplotlib inline\n",
    "from keras.models import Sequential\n",
    "from keras.layers import Dense\n",
    "train = pd.read_csv('/workspaces/AITemplate/Kaggle/Titanic/Datasets/Titanic_train.csv')\n",
    "test = pd.read_csv('/workspaces/AITemplate/Kaggle/Titanic/Datasets/Titanic_test.csv')"
   ]
  },
  {
   "cell_type": "code",
   "execution_count": 83,
   "metadata": {},
   "outputs": [
    {
     "name": "stdout",
     "output_type": "stream",
     "text": [
      "<class 'pandas.core.frame.DataFrame'>\n",
      "RangeIndex: 891 entries, 0 to 890\n",
      "Data columns (total 12 columns):\n",
      " #   Column       Non-Null Count  Dtype  \n",
      "---  ------       --------------  -----  \n",
      " 0   PassengerId  891 non-null    int64  \n",
      " 1   Survived     891 non-null    int64  \n",
      " 2   Pclass       891 non-null    int64  \n",
      " 3   Name         891 non-null    object \n",
      " 4   Sex          891 non-null    object \n",
      " 5   Age          714 non-null    float64\n",
      " 6   SibSp        891 non-null    int64  \n",
      " 7   Parch        891 non-null    int64  \n",
      " 8   Ticket       891 non-null    object \n",
      " 9   Fare         891 non-null    float64\n",
      " 10  Cabin        204 non-null    object \n",
      " 11  Embarked     889 non-null    object \n",
      "dtypes: float64(2), int64(5), object(5)\n",
      "memory usage: 83.7+ KB\n"
     ]
    }
   ],
   "source": [
    "train.info()"
   ]
  },
  {
   "cell_type": "code",
   "execution_count": 84,
   "metadata": {},
   "outputs": [
    {
     "data": {
      "text/plain": [
       "Embarked\n",
       "0    646\n",
       "1    168\n",
       "2     77\n",
       "Name: count, dtype: int64"
      ]
     },
     "execution_count": 84,
     "metadata": {},
     "output_type": "execute_result"
    }
   ],
   "source": [
    "#Change the categorical data to numerical data\n",
    "train[\"Embarked\"] = train[\"Embarked\"].fillna(\"S\")\n",
    "train[\"Embarked\"] = train[\"Embarked\"].map({\"S\":0, \"C\":1, \"Q\":2}).astype(int)\n",
    "train[\"Embarked\"].value_counts()"
   ]
  },
  {
   "cell_type": "code",
   "execution_count": 85,
   "metadata": {},
   "outputs": [
    {
     "data": {
      "text/plain": [
       "Embarked\n",
       "0    270\n",
       "1    102\n",
       "2     46\n",
       "Name: count, dtype: int64"
      ]
     },
     "execution_count": 85,
     "metadata": {},
     "output_type": "execute_result"
    }
   ],
   "source": [
    "#Change the categorical data to numerical data\n",
    "test[\"Embarked\"] = test[\"Embarked\"].fillna(\"S\")\n",
    "test[\"Embarked\"] = test[\"Embarked\"].map({\"S\":0, \"C\":1, \"Q\":2}).astype(int)\n",
    "test[\"Embarked\"].value_counts()"
   ]
  },
  {
   "cell_type": "code",
   "execution_count": 86,
   "metadata": {},
   "outputs": [
    {
     "data": {
      "text/plain": [
       "Sex\n",
       "0    577\n",
       "1    314\n",
       "Name: count, dtype: int64"
      ]
     },
     "execution_count": 86,
     "metadata": {},
     "output_type": "execute_result"
    }
   ],
   "source": [
    "train[\"Sex\"] = train[\"Sex\"].fillna(\"male\")\n",
    "train[\"Sex\"] = train[\"Sex\"].map({\"male\": 0, \"female\": 1}).astype(int)\n",
    "train[\"Sex\"].value_counts()"
   ]
  },
  {
   "cell_type": "code",
   "execution_count": 87,
   "metadata": {},
   "outputs": [
    {
     "data": {
      "text/plain": [
       "Sex\n",
       "0    266\n",
       "1    152\n",
       "Name: count, dtype: int64"
      ]
     },
     "execution_count": 87,
     "metadata": {},
     "output_type": "execute_result"
    }
   ],
   "source": [
    "test[\"Sex\"] = test[\"Sex\"].fillna(\"male\")\n",
    "test[\"Sex\"] = test[\"Sex\"].map({\"male\": 0, \"female\": 1}).astype(int)\n",
    "test[\"Sex\"].value_counts()"
   ]
  },
  {
   "cell_type": "code",
   "execution_count": 88,
   "metadata": {},
   "outputs": [],
   "source": [
    "train.drop([\"Name\", \"Ticket\", \"Cabin\", \"PassengerId\"], axis=1, inplace=True)"
   ]
  },
  {
   "cell_type": "code",
   "execution_count": 89,
   "metadata": {},
   "outputs": [],
   "source": [
    "test.drop([\"Name\", \"Ticket\", \"Cabin\"], axis=1, inplace=True)"
   ]
  },
  {
   "cell_type": "code",
   "execution_count": 90,
   "metadata": {},
   "outputs": [],
   "source": [
    "train = train.dropna()"
   ]
  },
  {
   "cell_type": "code",
   "execution_count": 91,
   "metadata": {},
   "outputs": [],
   "source": [
    "test[\"Age\"].fillna(test.Age.mean(), inplace=True)"
   ]
  },
  {
   "cell_type": "code",
   "execution_count": 92,
   "metadata": {},
   "outputs": [
    {
     "name": "stdout",
     "output_type": "stream",
     "text": [
      "<class 'pandas.core.frame.DataFrame'>\n",
      "RangeIndex: 418 entries, 0 to 417\n",
      "Data columns (total 8 columns):\n",
      " #   Column       Non-Null Count  Dtype  \n",
      "---  ------       --------------  -----  \n",
      " 0   PassengerId  418 non-null    int64  \n",
      " 1   Pclass       418 non-null    int64  \n",
      " 2   Sex          418 non-null    int64  \n",
      " 3   Age          418 non-null    float64\n",
      " 4   SibSp        418 non-null    int64  \n",
      " 5   Parch        418 non-null    int64  \n",
      " 6   Fare         417 non-null    float64\n",
      " 7   Embarked     418 non-null    int64  \n",
      "dtypes: float64(2), int64(6)\n",
      "memory usage: 26.2 KB\n"
     ]
    }
   ],
   "source": [
    "test.info()"
   ]
  },
  {
   "cell_type": "code",
   "execution_count": 93,
   "metadata": {},
   "outputs": [
    {
     "name": "stdout",
     "output_type": "stream",
     "text": [
      "<class 'pandas.core.frame.DataFrame'>\n",
      "RangeIndex: 418 entries, 0 to 417\n",
      "Data columns (total 8 columns):\n",
      " #   Column       Non-Null Count  Dtype  \n",
      "---  ------       --------------  -----  \n",
      " 0   PassengerId  418 non-null    int64  \n",
      " 1   Pclass       418 non-null    int64  \n",
      " 2   Sex          418 non-null    int64  \n",
      " 3   Age          418 non-null    float64\n",
      " 4   SibSp        418 non-null    int64  \n",
      " 5   Parch        418 non-null    int64  \n",
      " 6   Fare         417 non-null    float64\n",
      " 7   Embarked     418 non-null    int64  \n",
      "dtypes: float64(2), int64(6)\n",
      "memory usage: 26.2 KB\n"
     ]
    }
   ],
   "source": [
    "test.info()"
   ]
  },
  {
   "cell_type": "code",
   "execution_count": 94,
   "metadata": {},
   "outputs": [],
   "source": [
    "X_train = train.drop(\"Survived\", axis=1)\n",
    "y_train = train[\"Survived\"]\n",
    "X_test = test.drop(\"PassengerId\", axis=1)"
   ]
  },
  {
   "cell_type": "code",
   "execution_count": 95,
   "metadata": {},
   "outputs": [
    {
     "name": "stdout",
     "output_type": "stream",
     "text": [
      "Epoch 1/100\n"
     ]
    },
    {
     "name": "stdout",
     "output_type": "stream",
     "text": [
      "179/179 [==============================] - 1s 943us/step - loss: 0.6976 - accuracy: 0.6499\n",
      "Epoch 2/100\n",
      "179/179 [==============================] - 0s 969us/step - loss: 0.6200 - accuracy: 0.6541\n",
      "Epoch 3/100\n",
      "179/179 [==============================] - 0s 931us/step - loss: 0.6140 - accuracy: 0.6905\n",
      "Epoch 4/100\n",
      "179/179 [==============================] - 0s 952us/step - loss: 0.5788 - accuracy: 0.7185\n",
      "Epoch 5/100\n",
      "179/179 [==============================] - 0s 942us/step - loss: 0.5450 - accuracy: 0.7395\n",
      "Epoch 6/100\n",
      "179/179 [==============================] - 0s 941us/step - loss: 0.5460 - accuracy: 0.7507\n",
      "Epoch 7/100\n",
      "179/179 [==============================] - 0s 939us/step - loss: 0.5203 - accuracy: 0.7689\n",
      "Epoch 8/100\n",
      "179/179 [==============================] - 0s 936us/step - loss: 0.5419 - accuracy: 0.7479\n",
      "Epoch 9/100\n",
      "179/179 [==============================] - 0s 1ms/step - loss: 0.5153 - accuracy: 0.7535\n",
      "Epoch 10/100\n",
      "179/179 [==============================] - 0s 949us/step - loss: 0.4988 - accuracy: 0.7689\n",
      "Epoch 11/100\n",
      "179/179 [==============================] - 0s 1ms/step - loss: 0.4839 - accuracy: 0.7857\n",
      "Epoch 12/100\n",
      "179/179 [==============================] - 0s 945us/step - loss: 0.4787 - accuracy: 0.7801\n",
      "Epoch 13/100\n",
      "179/179 [==============================] - 0s 937us/step - loss: 0.4986 - accuracy: 0.7773\n",
      "Epoch 14/100\n",
      "179/179 [==============================] - 0s 939us/step - loss: 0.4881 - accuracy: 0.7885\n",
      "Epoch 15/100\n",
      "179/179 [==============================] - 0s 944us/step - loss: 0.4697 - accuracy: 0.7773\n",
      "Epoch 16/100\n",
      "179/179 [==============================] - 0s 950us/step - loss: 0.4775 - accuracy: 0.7941\n",
      "Epoch 17/100\n",
      "179/179 [==============================] - 0s 942us/step - loss: 0.4472 - accuracy: 0.7941\n",
      "Epoch 18/100\n",
      "179/179 [==============================] - 0s 938us/step - loss: 0.4407 - accuracy: 0.8081\n",
      "Epoch 19/100\n",
      "179/179 [==============================] - 0s 929us/step - loss: 0.4769 - accuracy: 0.7899\n",
      "Epoch 20/100\n",
      "179/179 [==============================] - 0s 938us/step - loss: 0.4549 - accuracy: 0.8081\n",
      "Epoch 21/100\n",
      "179/179 [==============================] - 0s 962us/step - loss: 0.4417 - accuracy: 0.8025\n",
      "Epoch 22/100\n",
      "179/179 [==============================] - 0s 964us/step - loss: 0.4599 - accuracy: 0.7983\n",
      "Epoch 23/100\n",
      "179/179 [==============================] - 0s 929us/step - loss: 0.4521 - accuracy: 0.8081\n",
      "Epoch 24/100\n",
      "179/179 [==============================] - 0s 938us/step - loss: 0.4743 - accuracy: 0.7997\n",
      "Epoch 25/100\n",
      "179/179 [==============================] - 0s 928us/step - loss: 0.4346 - accuracy: 0.8123\n",
      "Epoch 26/100\n",
      "179/179 [==============================] - 0s 931us/step - loss: 0.4356 - accuracy: 0.7997\n",
      "Epoch 27/100\n",
      "179/179 [==============================] - 0s 936us/step - loss: 0.4341 - accuracy: 0.8109\n",
      "Epoch 28/100\n",
      "179/179 [==============================] - 0s 946us/step - loss: 0.4373 - accuracy: 0.8123\n",
      "Epoch 29/100\n",
      "179/179 [==============================] - 0s 1ms/step - loss: 0.4453 - accuracy: 0.8207\n",
      "Epoch 30/100\n",
      "179/179 [==============================] - 0s 970us/step - loss: 0.4282 - accuracy: 0.8095\n",
      "Epoch 31/100\n",
      "179/179 [==============================] - 0s 932us/step - loss: 0.4298 - accuracy: 0.8067\n",
      "Epoch 32/100\n",
      "179/179 [==============================] - 0s 928us/step - loss: 0.4396 - accuracy: 0.8095\n",
      "Epoch 33/100\n",
      "179/179 [==============================] - 0s 973us/step - loss: 0.4300 - accuracy: 0.8039\n",
      "Epoch 34/100\n",
      "179/179 [==============================] - 0s 972us/step - loss: 0.4300 - accuracy: 0.8025\n",
      "Epoch 35/100\n",
      "179/179 [==============================] - 0s 930us/step - loss: 0.4341 - accuracy: 0.7997\n",
      "Epoch 36/100\n",
      "179/179 [==============================] - 0s 936us/step - loss: 0.4186 - accuracy: 0.8235\n",
      "Epoch 37/100\n",
      "179/179 [==============================] - 0s 939us/step - loss: 0.4459 - accuracy: 0.8151\n",
      "Epoch 38/100\n",
      "179/179 [==============================] - 0s 933us/step - loss: 0.4214 - accuracy: 0.8137\n",
      "Epoch 39/100\n",
      "179/179 [==============================] - 0s 955us/step - loss: 0.4207 - accuracy: 0.8151\n",
      "Epoch 40/100\n",
      "179/179 [==============================] - 0s 938us/step - loss: 0.4203 - accuracy: 0.8067\n",
      "Epoch 41/100\n",
      "179/179 [==============================] - 0s 974us/step - loss: 0.4237 - accuracy: 0.8081\n",
      "Epoch 42/100\n",
      "179/179 [==============================] - 0s 959us/step - loss: 0.4196 - accuracy: 0.8151\n",
      "Epoch 43/100\n",
      "179/179 [==============================] - 0s 938us/step - loss: 0.4185 - accuracy: 0.8137\n",
      "Epoch 44/100\n",
      "179/179 [==============================] - 0s 937us/step - loss: 0.4243 - accuracy: 0.8137\n",
      "Epoch 45/100\n",
      "179/179 [==============================] - 0s 960us/step - loss: 0.4161 - accuracy: 0.8151\n",
      "Epoch 46/100\n",
      "179/179 [==============================] - 0s 1ms/step - loss: 0.4182 - accuracy: 0.8109\n",
      "Epoch 47/100\n",
      "179/179 [==============================] - 0s 994us/step - loss: 0.4030 - accuracy: 0.8277\n",
      "Epoch 48/100\n",
      "179/179 [==============================] - 0s 1ms/step - loss: 0.4024 - accuracy: 0.8151\n",
      "Epoch 49/100\n",
      "179/179 [==============================] - 0s 932us/step - loss: 0.4237 - accuracy: 0.8081\n",
      "Epoch 50/100\n",
      "179/179 [==============================] - 0s 960us/step - loss: 0.4166 - accuracy: 0.8137\n",
      "Epoch 51/100\n",
      "179/179 [==============================] - 0s 961us/step - loss: 0.4084 - accuracy: 0.8207\n",
      "Epoch 52/100\n",
      "179/179 [==============================] - 0s 1ms/step - loss: 0.4126 - accuracy: 0.8151\n",
      "Epoch 53/100\n",
      "179/179 [==============================] - 0s 968us/step - loss: 0.4071 - accuracy: 0.8193\n",
      "Epoch 54/100\n",
      "179/179 [==============================] - 0s 937us/step - loss: 0.4004 - accuracy: 0.8179\n",
      "Epoch 55/100\n",
      "179/179 [==============================] - 0s 928us/step - loss: 0.4127 - accuracy: 0.8277\n",
      "Epoch 56/100\n",
      "179/179 [==============================] - 0s 941us/step - loss: 0.3982 - accuracy: 0.8179\n",
      "Epoch 57/100\n",
      "179/179 [==============================] - 0s 954us/step - loss: 0.4010 - accuracy: 0.8235\n",
      "Epoch 58/100\n",
      "179/179 [==============================] - 0s 1ms/step - loss: 0.4069 - accuracy: 0.8151\n",
      "Epoch 59/100\n",
      "179/179 [==============================] - 0s 957us/step - loss: 0.4006 - accuracy: 0.8207\n",
      "Epoch 60/100\n",
      "179/179 [==============================] - 0s 934us/step - loss: 0.4094 - accuracy: 0.8263\n",
      "Epoch 61/100\n",
      "179/179 [==============================] - 0s 943us/step - loss: 0.4178 - accuracy: 0.8151\n",
      "Epoch 62/100\n",
      "179/179 [==============================] - 0s 946us/step - loss: 0.4011 - accuracy: 0.8263\n",
      "Epoch 63/100\n",
      "179/179 [==============================] - 0s 939us/step - loss: 0.3978 - accuracy: 0.8305\n",
      "Epoch 64/100\n",
      "179/179 [==============================] - 0s 973us/step - loss: 0.3936 - accuracy: 0.8361\n",
      "Epoch 65/100\n",
      "179/179 [==============================] - 0s 936us/step - loss: 0.3877 - accuracy: 0.8389\n",
      "Epoch 66/100\n",
      "179/179 [==============================] - 0s 941us/step - loss: 0.3965 - accuracy: 0.8277\n",
      "Epoch 67/100\n",
      "179/179 [==============================] - 0s 941us/step - loss: 0.3988 - accuracy: 0.8319\n",
      "Epoch 68/100\n",
      "179/179 [==============================] - 0s 950us/step - loss: 0.3871 - accuracy: 0.8277\n",
      "Epoch 69/100\n",
      "179/179 [==============================] - 0s 946us/step - loss: 0.3901 - accuracy: 0.8305\n",
      "Epoch 70/100\n",
      "179/179 [==============================] - 0s 991us/step - loss: 0.3911 - accuracy: 0.8333\n",
      "Epoch 71/100\n",
      "179/179 [==============================] - 0s 992us/step - loss: 0.3843 - accuracy: 0.8347\n",
      "Epoch 72/100\n",
      "179/179 [==============================] - 0s 944us/step - loss: 0.3884 - accuracy: 0.8165\n",
      "Epoch 73/100\n",
      "179/179 [==============================] - 0s 940us/step - loss: 0.3851 - accuracy: 0.8333\n",
      "Epoch 74/100\n",
      "179/179 [==============================] - 0s 943us/step - loss: 0.3842 - accuracy: 0.8389\n",
      "Epoch 75/100\n",
      "179/179 [==============================] - 0s 933us/step - loss: 0.3841 - accuracy: 0.8375\n",
      "Epoch 76/100\n",
      "179/179 [==============================] - 0s 944us/step - loss: 0.3865 - accuracy: 0.8305\n",
      "Epoch 77/100\n",
      "179/179 [==============================] - 0s 937us/step - loss: 0.3860 - accuracy: 0.8291\n",
      "Epoch 78/100\n",
      "179/179 [==============================] - 0s 935us/step - loss: 0.3827 - accuracy: 0.8361\n",
      "Epoch 79/100\n",
      "179/179 [==============================] - 0s 946us/step - loss: 0.3824 - accuracy: 0.8319\n",
      "Epoch 80/100\n",
      "179/179 [==============================] - 0s 943us/step - loss: 0.3722 - accuracy: 0.8417\n",
      "Epoch 81/100\n",
      "179/179 [==============================] - 0s 938us/step - loss: 0.3748 - accuracy: 0.8375\n",
      "Epoch 82/100\n",
      "179/179 [==============================] - 0s 985us/step - loss: 0.3793 - accuracy: 0.8291\n",
      "Epoch 83/100\n",
      "179/179 [==============================] - 0s 940us/step - loss: 0.3732 - accuracy: 0.8361\n",
      "Epoch 84/100\n",
      "179/179 [==============================] - 0s 943us/step - loss: 0.3723 - accuracy: 0.8431\n",
      "Epoch 85/100\n",
      "179/179 [==============================] - 0s 931us/step - loss: 0.3699 - accuracy: 0.8347\n",
      "Epoch 86/100\n",
      "179/179 [==============================] - 0s 953us/step - loss: 0.3756 - accuracy: 0.8417\n",
      "Epoch 87/100\n",
      "179/179 [==============================] - 0s 950us/step - loss: 0.3694 - accuracy: 0.8375\n",
      "Epoch 88/100\n",
      "179/179 [==============================] - 0s 1ms/step - loss: 0.3930 - accuracy: 0.8277\n",
      "Epoch 89/100\n",
      "179/179 [==============================] - 0s 931us/step - loss: 0.3741 - accuracy: 0.8221\n",
      "Epoch 90/100\n",
      "179/179 [==============================] - 0s 941us/step - loss: 0.3709 - accuracy: 0.8473\n",
      "Epoch 91/100\n",
      "179/179 [==============================] - 0s 947us/step - loss: 0.3745 - accuracy: 0.8417\n",
      "Epoch 92/100\n",
      "179/179 [==============================] - 0s 940us/step - loss: 0.3608 - accuracy: 0.8389\n",
      "Epoch 93/100\n",
      "179/179 [==============================] - 0s 936us/step - loss: 0.3890 - accuracy: 0.8249\n",
      "Epoch 94/100\n",
      "179/179 [==============================] - 0s 1ms/step - loss: 0.3777 - accuracy: 0.8333\n",
      "Epoch 95/100\n",
      "179/179 [==============================] - 0s 929us/step - loss: 0.3660 - accuracy: 0.8431\n",
      "Epoch 96/100\n",
      "179/179 [==============================] - 0s 939us/step - loss: 0.3718 - accuracy: 0.8347\n",
      "Epoch 97/100\n",
      "179/179 [==============================] - 0s 944us/step - loss: 0.3644 - accuracy: 0.8417\n",
      "Epoch 98/100\n",
      "179/179 [==============================] - 0s 939us/step - loss: 0.3669 - accuracy: 0.8417\n",
      "Epoch 99/100\n",
      "179/179 [==============================] - 0s 930us/step - loss: 0.3656 - accuracy: 0.8459\n",
      "Epoch 100/100\n",
      "179/179 [==============================] - 0s 941us/step - loss: 0.3586 - accuracy: 0.8417\n",
      "14/14 [==============================] - 0s 748us/step\n",
      "[[0]\n",
      " [0]\n",
      " [0]\n",
      " [0]\n",
      " [0]\n",
      " [0]\n",
      " [0]\n",
      " [0]\n",
      " [1]\n",
      " [0]]\n"
     ]
    },
    {
     "data": {
      "image/png": "[encoded data removed]",
      "text/plain": [
       "<Figure size 640x480 with 1 Axes>"
      ]
     },
     "metadata": {},
     "output_type": "display_data"
    }
   ],
   "source": [
    "model = Sequential()\n",
    "model.add(Dense(64, activation='relu', input_dim=X_train.shape[1]))\n",
    "model.add(Dense(32, activation='relu'))\n",
    "model.add(Dense(16, activation='relu'))\n",
    "model.add(Dense(1, activation='sigmoid'))\n",
    "model.compile(optimizer=\"adam\", loss=\"binary_crossentropy\", metrics=[\"accuracy\"])\n",
    "\n",
    "number_of_epochs = 100\n",
    "model.fit(X_train, y_train, epochs=number_of_epochs, batch_size=4, verbose=1)\n",
    "\n",
    "plt.scatter(range(number_of_epochs), model.history.history['accuracy'], s=10)\n",
    "predictions = (model.predict(X_test) > 0.5).astype(int)\n",
    "print(predictions[:10])"
   ]
  },
  {
   "cell_type": "code",
   "execution_count": 97,
   "metadata": {},
   "outputs": [
    {
     "name": "stdout",
     "output_type": "stream",
     "text": [
      "Submission exported to /workspaces/AITemplate/Kaggle/Titanic/Submissions/NeuralNetworkSubmission5.csv\n"
     ]
    }
   ],
   "source": [
    "# Creating a submission file\n",
    "def make_submission(kaggle_predictions):\n",
    "    path=\"/workspaces/AITemplate/Kaggle/Titanic/Submissions/NeuralNetworkSubmission5.csv\"\n",
    "    kaggle_predictions.to_csv(path, index=False)\n",
    "    print(f\"Submission exported to {path}\")\n",
    "    \n",
    "kaggle_predictions = pd.DataFrame({\n",
    "    \"PassengerId\": test[\"PassengerId\"],\n",
    "    \"Survived\": predictions.reshape(-1)\n",
    "\n",
    "})\n",
    "make_submission(kaggle_predictions)"
   ]
  },
  {
   "cell_type": "code",
   "execution_count": null,
   "metadata": {},
   "outputs": [],
   "source": []
  }
 ],
 "metadata": {
  "kernelspec": {
   "display_name": "Python 3",
   "language": "python",
   "name": "python3"
  },
  "language_info": {
   "codemirror_mode": {
    "name": "ipython",
    "version": 3
   },
   "file_extension": ".py",
   "mimetype": "text/x-python",
   "name": "python",
   "nbconvert_exporter": "python",
   "pygments_lexer": "ipython3",
   "version": "3.10.13"
  }
 },
 "nbformat": 4,
 "nbformat_minor": 2
}
